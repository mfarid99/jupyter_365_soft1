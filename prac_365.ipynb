{
 "cells": [
  {
   "cell_type": "code",
   "execution_count": 1,
   "id": "0c1fe560-5232-4f48-a969-cb0a3ae9bc67",
   "metadata": {},
   "outputs": [
    {
     "data": {
      "text/plain": [
       "2"
      ]
     },
     "execution_count": 1,
     "metadata": {},
     "output_type": "execute_result"
    }
   ],
   "source": [
    "1 + 1"
   ]
  },
  {
   "cell_type": "code",
   "execution_count": 2,
   "id": "027327df-be3b-4ebe-a057-82e1d9e02a46",
   "metadata": {},
   "outputs": [
    {
     "data": {
      "text/plain": [
       "3"
      ]
     },
     "execution_count": 2,
     "metadata": {},
     "output_type": "execute_result"
    }
   ],
   "source": [
    "1+ 2"
   ]
  },
  {
   "cell_type": "markdown",
   "id": "c6ee46d5-df3c-45ff-b1f0-369b5ea6bc12",
   "metadata": {},
   "source": [
    "This is a markdown"
   ]
  },
  {
   "cell_type": "code",
   "execution_count": 3,
   "id": "30215899-5191-4c6d-a732-b9d82603fbcf",
   "metadata": {},
   "outputs": [
    {
     "ename": "NameError",
     "evalue": "name 'This' is not defined",
     "output_type": "error",
     "traceback": [
      "\u001b[31m---------------------------------------------------------------------------\u001b[39m",
      "\u001b[31mNameError\u001b[39m                                 Traceback (most recent call last)",
      "\u001b[36mCell\u001b[39m\u001b[36m \u001b[39m\u001b[32mIn[3]\u001b[39m\u001b[32m, line 1\u001b[39m\n\u001b[32m----> \u001b[39m\u001b[32m1\u001b[39m This\n",
      "\u001b[31mNameError\u001b[39m: name 'This' is not defined"
     ]
    }
   ],
   "source": [
    "This"
   ]
  },
  {
   "cell_type": "code",
   "execution_count": 4,
   "id": "c45f8a8e-bd02-403c-9d30-bd73ec26131c",
   "metadata": {},
   "outputs": [],
   "source": [
    "a, b, c, d = (10, 20, 30, 40)"
   ]
  },
  {
   "cell_type": "code",
   "execution_count": 5,
   "id": "2f388e39-f863-4d8f-a86a-65e5f463f2f8",
   "metadata": {},
   "outputs": [
    {
     "data": {
      "text/plain": [
       "10"
      ]
     },
     "execution_count": 5,
     "metadata": {},
     "output_type": "execute_result"
    }
   ],
   "source": [
    "a\n"
   ]
  },
  {
   "cell_type": "code",
   "execution_count": 6,
   "id": "c2becb27-c0e8-4aa3-9181-480588fb90bd",
   "metadata": {},
   "outputs": [
    {
     "data": {
      "text/plain": [
       "40"
      ]
     },
     "execution_count": 6,
     "metadata": {},
     "output_type": "execute_result"
    }
   ],
   "source": [
    "d"
   ]
  },
  {
   "cell_type": "code",
   "execution_count": 7,
   "id": "151827c2-cce3-481a-baaf-f8393f1730bb",
   "metadata": {},
   "outputs": [
    {
     "data": {
      "text/plain": [
       "'/Users/moe'"
      ]
     },
     "execution_count": 7,
     "metadata": {},
     "output_type": "execute_result"
    }
   ],
   "source": [
    "import os\n",
    "os.getcwd()\n"
   ]
  },
  {
   "cell_type": "code",
   "execution_count": 1,
   "id": "47d46b91-db08-4555-b69e-8a12ab28ea66",
   "metadata": {},
   "outputs": [],
   "source": [
    "x, y, z, d = (90, 2, 30, 4)"
   ]
  },
  {
   "cell_type": "code",
   "execution_count": 2,
   "id": "d92a34dc-8c5e-4564-bd45-a80b214af26e",
   "metadata": {},
   "outputs": [
    {
     "data": {
      "text/plain": [
       "90"
      ]
     },
     "execution_count": 2,
     "metadata": {},
     "output_type": "execute_result"
    }
   ],
   "source": [
    "x"
   ]
  },
  {
   "cell_type": "code",
   "execution_count": 3,
   "id": "17b62215-987a-4626-a74f-51c38586dad7",
   "metadata": {},
   "outputs": [
    {
     "data": {
      "text/plain": [
       "4"
      ]
     },
     "execution_count": 3,
     "metadata": {},
     "output_type": "execute_result"
    }
   ],
   "source": [
    "d"
   ]
  },
  {
   "cell_type": "code",
   "execution_count": 4,
   "id": "7072e172-207c-4d23-8520-b60de8751425",
   "metadata": {},
   "outputs": [
    {
     "name": "stdout",
     "output_type": "stream",
     "text": [
      "<class 'int'>\n"
     ]
    }
   ],
   "source": [
    "x = 99\n",
    "print(type(x))"
   ]
  },
  {
   "cell_type": "code",
   "execution_count": 5,
   "id": "ecfeb7ae-372b-46bc-84e8-1f7efc48fb14",
   "metadata": {},
   "outputs": [],
   "source": [
    "y = 10.5"
   ]
  },
  {
   "cell_type": "code",
   "execution_count": 6,
   "id": "e304384c-34fe-4c74-8e28-432123474f19",
   "metadata": {},
   "outputs": [
    {
     "data": {
      "text/plain": [
       "float"
      ]
     },
     "execution_count": 6,
     "metadata": {},
     "output_type": "execute_result"
    }
   ],
   "source": [
    "type(y)"
   ]
  },
  {
   "cell_type": "code",
   "execution_count": 7,
   "id": "f2e536de-f558-45f8-9575-88597f0211b3",
   "metadata": {},
   "outputs": [
    {
     "data": {
      "text/plain": [
       "10"
      ]
     },
     "execution_count": 7,
     "metadata": {},
     "output_type": "execute_result"
    }
   ],
   "source": [
    "int(y)"
   ]
  },
  {
   "cell_type": "code",
   "execution_count": 8,
   "id": "ee094a9d-51ee-4162-abda-0026b6a66af2",
   "metadata": {},
   "outputs": [
    {
     "data": {
      "text/plain": [
       "True"
      ]
     },
     "execution_count": 8,
     "metadata": {},
     "output_type": "execute_result"
    }
   ],
   "source": [
    "z = True\n",
    "z"
   ]
  },
  {
   "cell_type": "code",
   "execution_count": 9,
   "id": "cd400074-01a8-46e0-8e2d-bc67edb4f77c",
   "metadata": {},
   "outputs": [
    {
     "data": {
      "text/plain": [
       "bool"
      ]
     },
     "execution_count": 9,
     "metadata": {},
     "output_type": "execute_result"
    }
   ],
   "source": [
    "type(z)"
   ]
  },
  {
   "cell_type": "code",
   "execution_count": 1,
   "id": "c1e40b1f-f012-4e92-bda0-8ae4dd350951",
   "metadata": {},
   "outputs": [
    {
     "data": {
      "text/plain": [
       "float"
      ]
     },
     "execution_count": 1,
     "metadata": {},
     "output_type": "execute_result"
    }
   ],
   "source": [
    "type(1 + 11.55)"
   ]
  },
  {
   "cell_type": "code",
   "execution_count": 2,
   "id": "94432a65-d90b-4007-888b-fbab6c566799",
   "metadata": {},
   "outputs": [
    {
     "data": {
      "text/plain": [
       "5.333333333333333"
      ]
     },
     "execution_count": 2,
     "metadata": {},
     "output_type": "execute_result"
    }
   ],
   "source": [
    "16 /3\n"
   ]
  },
  {
   "cell_type": "code",
   "execution_count": 3,
   "id": "bebea873-e386-4417-8ea9-3c88c30ac7ea",
   "metadata": {},
   "outputs": [
    {
     "data": {
      "text/plain": [
       "1"
      ]
     },
     "execution_count": 3,
     "metadata": {},
     "output_type": "execute_result"
    }
   ],
   "source": [
    "16 % 3\n"
   ]
  },
  {
   "cell_type": "code",
   "execution_count": 4,
   "id": "d0fac6f0-2cf4-4117-9062-09ed790fc82d",
   "metadata": {},
   "outputs": [
    {
     "data": {
      "text/plain": [
       "25"
      ]
     },
     "execution_count": 4,
     "metadata": {},
     "output_type": "execute_result"
    }
   ],
   "source": [
    "5 * 5"
   ]
  },
  {
   "cell_type": "code",
   "execution_count": 5,
   "id": "77f40521-c082-459b-9d82-dddb02433968",
   "metadata": {},
   "outputs": [
    {
     "data": {
      "text/plain": [
       "3125"
      ]
     },
     "execution_count": 5,
     "metadata": {},
     "output_type": "execute_result"
    }
   ],
   "source": [
    "5**5\n"
   ]
  },
  {
   "cell_type": "code",
   "execution_count": 6,
   "id": "6f600b90-b590-4dd0-aba6-ab60150daaaa",
   "metadata": {},
   "outputs": [
    {
     "data": {
      "text/plain": [
       "225"
      ]
     },
     "execution_count": 6,
     "metadata": {},
     "output_type": "execute_result"
    }
   ],
   "source": [
    "15 ** 2"
   ]
  },
  {
   "cell_type": "code",
   "execution_count": 7,
   "id": "904fb81e-3b32-4871-8075-b96ceff6bf44",
   "metadata": {},
   "outputs": [
    {
     "data": {
      "text/plain": [
       "625"
      ]
     },
     "execution_count": 7,
     "metadata": {},
     "output_type": "execute_result"
    }
   ],
   "source": [
    "25 ** 2\n"
   ]
  },
  {
   "cell_type": "code",
   "execution_count": 8,
   "id": "6c19abf6-39dd-4bbe-abe3-46973e27b9ef",
   "metadata": {},
   "outputs": [
    {
     "data": {
      "text/plain": [
       "86"
      ]
     },
     "execution_count": 8,
     "metadata": {},
     "output_type": "execute_result"
    }
   ],
   "source": [
    "15 + 71"
   ]
  },
  {
   "cell_type": "code",
   "execution_count": 10,
   "id": "a8c23b79-b733-4b7a-802e-9e1651e2472d",
   "metadata": {},
   "outputs": [
    {
     "data": {
      "text/plain": [
       "-67"
      ]
     },
     "execution_count": 10,
     "metadata": {},
     "output_type": "execute_result"
    }
   ],
   "source": [
    "15 + 17 \\\n",
    "- 99"
   ]
  },
  {
   "cell_type": "code",
   "execution_count": 13,
   "id": "3c0d60cb-7883-4773-949d-585d7906f83f",
   "metadata": {},
   "outputs": [
    {
     "data": {
      "text/plain": [
       "'d'"
      ]
     },
     "execution_count": 13,
     "metadata": {},
     "output_type": "execute_result"
    }
   ],
   "source": [
    "\"Monday\"[3]"
   ]
  },
  {
   "cell_type": "code",
   "execution_count": 14,
   "id": "ff319ccb-3359-4615-9c07-cb4ccc015e7b",
   "metadata": {},
   "outputs": [],
   "source": [
    "monday_ind = \"Monday\"[4]"
   ]
  },
  {
   "cell_type": "code",
   "execution_count": 15,
   "id": "0e803d9a-3aa0-4d38-b86d-d6825b2e3cd0",
   "metadata": {},
   "outputs": [
    {
     "data": {
      "text/plain": [
       "'a'"
      ]
     },
     "execution_count": 15,
     "metadata": {},
     "output_type": "execute_result"
    }
   ],
   "source": [
    "monday_ind\n"
   ]
  },
  {
   "cell_type": "code",
   "execution_count": 16,
   "id": "76eb9ff2-ad23-4055-8887-82d23e87d49d",
   "metadata": {},
   "outputs": [
    {
     "data": {
      "text/plain": [
       "'/Users/moe/jupyter_note_pract_soft'"
      ]
     },
     "execution_count": 16,
     "metadata": {},
     "output_type": "execute_result"
    }
   ],
   "source": [
    "import os\n",
    "os.getcwd()"
   ]
  },
  {
   "cell_type": "code",
   "execution_count": 17,
   "id": "03193570-7ac4-4ac7-8b35-1317d4243240",
   "metadata": {},
   "outputs": [],
   "source": [
    "def simple():\n",
    "    print(\"Hello Man!\")"
   ]
  },
  {
   "cell_type": "code",
   "execution_count": 18,
   "id": "d257a3c8-d613-4708-8b89-c44c07f9a908",
   "metadata": {},
   "outputs": [
    {
     "name": "stdout",
     "output_type": "stream",
     "text": [
      "Hello Man!\n"
     ]
    }
   ],
   "source": [
    "simple()"
   ]
  },
  {
   "cell_type": "code",
   "execution_count": 19,
   "id": "59620d71-4d3e-42b4-bdc0-f06ddbd7d6a7",
   "metadata": {},
   "outputs": [
    {
     "data": {
      "text/plain": [
       "17"
      ]
     },
     "execution_count": 19,
     "metadata": {},
     "output_type": "execute_result"
    }
   ],
   "source": [
    "def plus_ten(x):\n",
    "    return x + 10\n",
    "\n",
    "plus_ten(7)"
   ]
  },
  {
   "cell_type": "code",
   "execution_count": 22,
   "id": "bec0d44a-8f77-4b56-8ec7-37f70b5fe57f",
   "metadata": {},
   "outputs": [
    {
     "data": {
      "text/plain": [
       "420"
      ]
     },
     "execution_count": 22,
     "metadata": {},
     "output_type": "execute_result"
    }
   ],
   "source": [
    "def base_pay(hours):\n",
    "    return hours * 40\n",
    "\n",
    "def bonus_pay(hours):\n",
    "    return base_pay(hours) + 100\n",
    "\n",
    "bonus_pay(8)"
   ]
  },
  {
   "cell_type": "code",
   "execution_count": 23,
   "id": "b7d47253-bdd5-40c5-abf4-b9378639aec3",
   "metadata": {},
   "outputs": [
    {
     "data": {
      "text/plain": [
       "(320, 300)"
      ]
     },
     "execution_count": 23,
     "metadata": {},
     "output_type": "execute_result"
    }
   ],
   "source": [
    "base_pay(8), bonus_pay(5)"
   ]
  },
  {
   "cell_type": "code",
   "execution_count": 35,
   "id": "1f9e1ca3-b684-4166-8382-66b5e274cd50",
   "metadata": {},
   "outputs": [],
   "source": [
    "def add_10(m):\n",
    "    if m >= 100:\n",
    "        m = m + 10\n",
    "        return m\n",
    "    else:\n",
    "        return \"no money\"\n",
    "\n"
   ]
  },
  {
   "cell_type": "code",
   "execution_count": 36,
   "id": "fb69fa16-6b4b-4b3d-abe5-3ba72fe9a24c",
   "metadata": {},
   "outputs": [
    {
     "data": {
      "text/plain": [
       "210"
      ]
     },
     "execution_count": 36,
     "metadata": {},
     "output_type": "execute_result"
    }
   ],
   "source": [
    "add_10(200)\n"
   ]
  },
  {
   "cell_type": "code",
   "execution_count": 37,
   "id": "873ef510-69a4-4353-a1ff-740f1742fe0f",
   "metadata": {},
   "outputs": [
    {
     "data": {
      "text/plain": [
       "210"
      ]
     },
     "execution_count": 37,
     "metadata": {},
     "output_type": "execute_result"
    }
   ],
   "source": [
    "add_10(200)"
   ]
  },
  {
   "cell_type": "code",
   "execution_count": 38,
   "id": "2422fee3-35fd-4099-a78f-2438c1d8a533",
   "metadata": {},
   "outputs": [
    {
     "data": {
      "text/plain": [
       "'no money'"
      ]
     },
     "execution_count": 38,
     "metadata": {},
     "output_type": "execute_result"
    }
   ],
   "source": [
    "add_10(50)"
   ]
  },
  {
   "cell_type": "code",
   "execution_count": 39,
   "id": "36039273-fbb8-4cce-8d7b-1caf196b8cfd",
   "metadata": {},
   "outputs": [
    {
     "data": {
      "text/plain": [
       "4242"
      ]
     },
     "execution_count": 39,
     "metadata": {},
     "output_type": "execute_result"
    }
   ],
   "source": [
    "max(90, 100, 4242)"
   ]
  },
  {
   "cell_type": "code",
   "execution_count": 41,
   "id": "8d71fb57-d668-486b-8520-ff24f1750f4c",
   "metadata": {},
   "outputs": [
    {
     "data": {
      "text/plain": [
       "1"
      ]
     },
     "execution_count": 41,
     "metadata": {},
     "output_type": "execute_result"
    }
   ],
   "source": [
    "min(5, 6, 99, 1, 4040, 24)"
   ]
  },
  {
   "cell_type": "code",
   "execution_count": 44,
   "id": "a20586c7-59a1-4043-9974-867ad476674f",
   "metadata": {},
   "outputs": [
    {
     "data": {
      "text/plain": [
       "16"
      ]
     },
     "execution_count": 44,
     "metadata": {},
     "output_type": "execute_result"
    }
   ],
   "source": [
    "list = [1, 2, 3, 4, 6]\n",
    "sum(list)"
   ]
  },
  {
   "cell_type": "code",
   "execution_count": 45,
   "id": "fd7807ab-3ac5-41ae-b900-a115a39d21c8",
   "metadata": {},
   "outputs": [
    {
     "data": {
      "text/plain": [
       "2"
      ]
     },
     "execution_count": 45,
     "metadata": {},
     "output_type": "execute_result"
    }
   ],
   "source": [
    "round(2.4)"
   ]
  },
  {
   "cell_type": "code",
   "execution_count": 46,
   "id": "bc1aa707-fb33-439f-9eb1-4b2a21cd4f62",
   "metadata": {},
   "outputs": [
    {
     "data": {
      "text/plain": [
       "25"
      ]
     },
     "execution_count": 46,
     "metadata": {},
     "output_type": "execute_result"
    }
   ],
   "source": [
    "pow(5, 2)"
   ]
  },
  {
   "cell_type": "code",
   "execution_count": 49,
   "id": "d1718e27-d72a-45d0-a017-da39d6db7d03",
   "metadata": {},
   "outputs": [
    {
     "data": {
      "text/plain": [
       "12"
      ]
     },
     "execution_count": 49,
     "metadata": {},
     "output_type": "execute_result"
    }
   ],
   "source": [
    "len(\"kjskfjksjfks\")\n"
   ]
  },
  {
   "cell_type": "code",
   "execution_count": 50,
   "id": "ea3be44d-bfd8-4704-9d92-b8da6f15aa81",
   "metadata": {},
   "outputs": [
    {
     "data": {
      "text/plain": [
       "'/Users/moe/jupyter_note_pract_soft'"
      ]
     },
     "execution_count": 50,
     "metadata": {},
     "output_type": "execute_result"
    }
   ],
   "source": [
    "pwd"
   ]
  },
  {
   "cell_type": "code",
   "execution_count": 51,
   "id": "23a4a9d4-c0ee-491f-acc9-50d0d3703c57",
   "metadata": {},
   "outputs": [],
   "source": [
    "Student = ['Harry', 'Marry', 'Gary', 'Scary']"
   ]
  },
  {
   "cell_type": "code",
   "execution_count": 53,
   "id": "da8f2ccd-fa5f-45d5-9ec3-d4f2eb8491c5",
   "metadata": {},
   "outputs": [
    {
     "data": {
      "text/plain": [
       "'Harry'"
      ]
     },
     "execution_count": 53,
     "metadata": {},
     "output_type": "execute_result"
    }
   ],
   "source": [
    "Student[0]"
   ]
  },
  {
   "cell_type": "code",
   "execution_count": 54,
   "id": "309e787f-fb04-439c-824c-84ce867f0c93",
   "metadata": {},
   "outputs": [],
   "source": [
    "Student[1] = 'Soha'"
   ]
  },
  {
   "cell_type": "code",
   "execution_count": 55,
   "id": "a1650ca1-2133-4e84-a727-859e37ec2e38",
   "metadata": {},
   "outputs": [
    {
     "data": {
      "text/plain": [
       "['Harry', 'Soha', 'Gary', 'Scary']"
      ]
     },
     "execution_count": 55,
     "metadata": {},
     "output_type": "execute_result"
    }
   ],
   "source": [
    "Student"
   ]
  },
  {
   "cell_type": "code",
   "execution_count": 57,
   "id": "b6c10e5f-466f-4371-aa69-4ed755f7a0c0",
   "metadata": {},
   "outputs": [],
   "source": [
    "del Student[0]"
   ]
  },
  {
   "cell_type": "code",
   "execution_count": 58,
   "id": "1ee8e7ed-8565-4e05-91ba-3449c9ae3170",
   "metadata": {},
   "outputs": [
    {
     "data": {
      "text/plain": [
       "['Soha', 'Gary', 'Scary']"
      ]
     },
     "execution_count": 58,
     "metadata": {},
     "output_type": "execute_result"
    }
   ],
   "source": [
    "Student"
   ]
  },
  {
   "cell_type": "code",
   "execution_count": 59,
   "id": "22bd7891-763e-4234-9ab3-4441e9fa9b6c",
   "metadata": {},
   "outputs": [
    {
     "data": {
      "text/plain": [
       "'/Users/moe/jupyter_note_pract_soft'"
      ]
     },
     "execution_count": 59,
     "metadata": {},
     "output_type": "execute_result"
    }
   ],
   "source": [
    "pwd\n"
   ]
  },
  {
   "cell_type": "code",
   "execution_count": 60,
   "id": "d68a6d2b-cdef-4257-bfb1-828b11215268",
   "metadata": {},
   "outputs": [],
   "source": [
    "from collections import deque\n",
    "\n",
    "d = deque([1, 2, 3, 4])\n",
    "d.append(5)"
   ]
  },
  {
   "cell_type": "code",
   "execution_count": 64,
   "id": "5ca9ad0a-8c45-4bb4-b450-880e5f0f78ee",
   "metadata": {},
   "outputs": [
    {
     "data": {
      "text/plain": [
       "deque([1, 2, 3, 4, 5])"
      ]
     },
     "execution_count": 64,
     "metadata": {},
     "output_type": "execute_result"
    }
   ],
   "source": [
    "d"
   ]
  },
  {
   "cell_type": "code",
   "execution_count": 65,
   "id": "be126560-883c-4964-af01-8f040bd96ed8",
   "metadata": {},
   "outputs": [
    {
     "data": {
      "text/plain": [
       "deque([1, 2, 3, 4, 5])"
      ]
     },
     "execution_count": 65,
     "metadata": {},
     "output_type": "execute_result"
    }
   ],
   "source": [
    "d"
   ]
  },
  {
   "cell_type": "code",
   "execution_count": 66,
   "id": "321e0d1b-d1a1-467c-928a-b53f12a9bdf1",
   "metadata": {},
   "outputs": [
    {
     "data": {
      "text/plain": [
       "deque([100, 1, 2, 3, 4, 5])"
      ]
     },
     "execution_count": 66,
     "metadata": {},
     "output_type": "execute_result"
    }
   ],
   "source": [
    "d.appendleft(100)\n",
    "d"
   ]
  },
  {
   "cell_type": "code",
   "execution_count": 67,
   "id": "14e448a7-7f84-4e63-884c-103991c170cb",
   "metadata": {},
   "outputs": [
    {
     "data": {
      "text/plain": [
       "deque([100, 1, 2, 3, 4])"
      ]
     },
     "execution_count": 67,
     "metadata": {},
     "output_type": "execute_result"
    }
   ],
   "source": [
    "d.pop()\n",
    "d"
   ]
  },
  {
   "cell_type": "code",
   "execution_count": 68,
   "id": "986841cc-1f81-4a91-bcf1-77e232b1a39a",
   "metadata": {},
   "outputs": [
    {
     "data": {
      "text/plain": [
       "deque([1, 2, 3, 4])"
      ]
     },
     "execution_count": 68,
     "metadata": {},
     "output_type": "execute_result"
    }
   ],
   "source": [
    "d.popleft()\n",
    "d"
   ]
  },
  {
   "cell_type": "code",
   "execution_count": 70,
   "id": "b8cbfa6a-5126-4128-aef7-4eac6c4320e4",
   "metadata": {},
   "outputs": [
    {
     "data": {
      "text/plain": [
       "[1, 2, 3, 99, 4, 5]"
      ]
     },
     "execution_count": 70,
     "metadata": {},
     "output_type": "execute_result"
    }
   ],
   "source": [
    "num_list = [1, 2, 3, 4, 5]\n",
    "num_list.insert(3,99)\n",
    "num_list"
   ]
  },
  {
   "cell_type": "code",
   "execution_count": 7,
   "id": "1292c0b0-4955-484a-8dea-ccd427d9d952",
   "metadata": {},
   "outputs": [],
   "source": [
    "# slice\n",
    "men = [\"Larry\", \"Sam\", \"Moe\", \"Amr\", \"Ralph\"]"
   ]
  },
  {
   "cell_type": "code",
   "execution_count": 2,
   "id": "0b0b0ff5-f313-4dc5-8c07-60dfc8ea0b5c",
   "metadata": {},
   "outputs": [
    {
     "data": {
      "text/plain": [
       "['Sam', 'Moe']"
      ]
     },
     "execution_count": 2,
     "metadata": {},
     "output_type": "execute_result"
    }
   ],
   "source": [
    "men[1:3]"
   ]
  },
  {
   "cell_type": "code",
   "execution_count": 3,
   "id": "c93ffbe9-1efa-4cfd-a9f4-50b2d9bad568",
   "metadata": {},
   "outputs": [
    {
     "data": {
      "text/plain": [
       "['Larry', 'Sam', 'Moe', 'Amr', 'Ralph']"
      ]
     },
     "execution_count": 3,
     "metadata": {},
     "output_type": "execute_result"
    }
   ],
   "source": [
    "men"
   ]
  },
  {
   "cell_type": "code",
   "execution_count": 5,
   "id": "72599f7a-cce7-4061-b3e6-c111f725d4d5",
   "metadata": {},
   "outputs": [
    {
     "data": {
      "text/plain": [
       "['Larry', 'Sam', 'Moe']"
      ]
     },
     "execution_count": 5,
     "metadata": {},
     "output_type": "execute_result"
    }
   ],
   "source": [
    "men[:3]"
   ]
  },
  {
   "cell_type": "code",
   "execution_count": 8,
   "id": "bd7b8dc0-4fa1-4f84-bd2e-47e2d9e02f9b",
   "metadata": {},
   "outputs": [
    {
     "data": {
      "text/plain": [
       "['Amr', 'Ralph']"
      ]
     },
     "execution_count": 8,
     "metadata": {},
     "output_type": "execute_result"
    }
   ],
   "source": [
    "men[3:]"
   ]
  },
  {
   "cell_type": "code",
   "execution_count": 9,
   "id": "c08fea16-ef67-4ea7-8a8e-e6dc68505269",
   "metadata": {},
   "outputs": [
    {
     "data": {
      "text/plain": [
       "1"
      ]
     },
     "execution_count": 9,
     "metadata": {},
     "output_type": "execute_result"
    }
   ],
   "source": [
    "men.index(\"Sam\")"
   ]
  },
  {
   "cell_type": "code",
   "execution_count": 10,
   "id": "60f0189a-7c01-4771-90ee-ecaa0863fe09",
   "metadata": {},
   "outputs": [],
   "source": [
    "men.sort()"
   ]
  },
  {
   "cell_type": "code",
   "execution_count": 11,
   "id": "107d0545-d3b6-4cf6-9ef5-e258a1639d63",
   "metadata": {},
   "outputs": [
    {
     "data": {
      "text/plain": [
       "['Amr', 'Larry', 'Moe', 'Ralph', 'Sam']"
      ]
     },
     "execution_count": 11,
     "metadata": {},
     "output_type": "execute_result"
    }
   ],
   "source": [
    "men"
   ]
  },
  {
   "cell_type": "code",
   "execution_count": 13,
   "id": "2d15ba74-3791-4cad-82ee-cd016029085f",
   "metadata": {},
   "outputs": [],
   "source": [
    "men.sort(reverse=True)"
   ]
  },
  {
   "cell_type": "code",
   "execution_count": 14,
   "id": "0bba488b-b3d0-432a-886b-0257e1e7a737",
   "metadata": {},
   "outputs": [
    {
     "data": {
      "text/plain": [
       "['Sam', 'Ralph', 'Moe', 'Larry', 'Amr']"
      ]
     },
     "execution_count": 14,
     "metadata": {},
     "output_type": "execute_result"
    }
   ],
   "source": [
    "men"
   ]
  },
  {
   "cell_type": "code",
   "execution_count": 15,
   "id": "fff15b51-c1d2-4029-9dc8-b5c8a93ef575",
   "metadata": {},
   "outputs": [
    {
     "data": {
      "text/plain": [
       "'/Users/moe/jupyter_note_pract_soft'"
      ]
     },
     "execution_count": 15,
     "metadata": {},
     "output_type": "execute_result"
    }
   ],
   "source": [
    "pwd\n"
   ]
  },
  {
   "cell_type": "code",
   "execution_count": 16,
   "id": "69465500-e9f4-48de-8acb-05b4f9cf620e",
   "metadata": {},
   "outputs": [],
   "source": [
    "# tuples\n",
    "x = (1, 2, 2, 3, 4)"
   ]
  },
  {
   "cell_type": "code",
   "execution_count": 17,
   "id": "3e048257-5676-4d83-8170-35606ff1f130",
   "metadata": {},
   "outputs": [
    {
     "data": {
      "text/plain": [
       "(1, 2, 2, 3, 4)"
      ]
     },
     "execution_count": 17,
     "metadata": {},
     "output_type": "execute_result"
    }
   ],
   "source": [
    "x"
   ]
  },
  {
   "cell_type": "code",
   "execution_count": 18,
   "id": "6d90573b-14cb-4e82-bc48-0c2acb00a53a",
   "metadata": {},
   "outputs": [],
   "source": [
    "a, c, v = 9, 3, 2"
   ]
  },
  {
   "cell_type": "code",
   "execution_count": 19,
   "id": "d3fbde1e-bbee-4e9b-8b78-30cfaf199e13",
   "metadata": {},
   "outputs": [
    {
     "data": {
      "text/plain": [
       "9"
      ]
     },
     "execution_count": 19,
     "metadata": {},
     "output_type": "execute_result"
    }
   ],
   "source": [
    "a"
   ]
  },
  {
   "cell_type": "code",
   "execution_count": 22,
   "id": "4a4de442-9fac-40f8-8dab-702b4879041e",
   "metadata": {},
   "outputs": [
    {
     "data": {
      "text/plain": [
       "2"
      ]
     },
     "execution_count": 22,
     "metadata": {},
     "output_type": "execute_result"
    }
   ],
   "source": [
    "x[1]"
   ]
  },
  {
   "cell_type": "code",
   "execution_count": 23,
   "id": "185adeda-aa08-419d-8a35-b3ac73594d75",
   "metadata": {},
   "outputs": [],
   "source": [
    "(age, name) = \"30, Moe\".split(',')"
   ]
  },
  {
   "cell_type": "code",
   "execution_count": 24,
   "id": "540c7327-bfee-4d53-97a0-035a89a3fc98",
   "metadata": {},
   "outputs": [
    {
     "name": "stdout",
     "output_type": "stream",
     "text": [
      "30\n"
     ]
    }
   ],
   "source": [
    "print(age)"
   ]
  },
  {
   "cell_type": "code",
   "execution_count": 25,
   "id": "19318344-bd48-430b-bcc6-67bda129dbe3",
   "metadata": {},
   "outputs": [
    {
     "name": "stdout",
     "output_type": "stream",
     "text": [
      " Moe\n"
     ]
    }
   ],
   "source": [
    "print(name)"
   ]
  },
  {
   "cell_type": "code",
   "execution_count": 27,
   "id": "d0407635-9ee3-4515-841a-d5a7d2353d18",
   "metadata": {},
   "outputs": [
    {
     "name": "stdout",
     "output_type": "stream",
     "text": [
      "Area and Perminter:\n"
     ]
    },
    {
     "data": {
      "text/plain": [
       "(25, 20)"
      ]
     },
     "execution_count": 27,
     "metadata": {},
     "output_type": "execute_result"
    }
   ],
   "source": [
    "def square_info(x):\n",
    "    A = x ** 2\n",
    "    B = x * 4\n",
    "    print(\"Area and Perminter:\")\n",
    "    return A, B\n",
    "\n",
    "square_info(5)"
   ]
  },
  {
   "cell_type": "code",
   "execution_count": 33,
   "id": "f4672b79-58ba-4413-9be8-86dbd286d09b",
   "metadata": {},
   "outputs": [
    {
     "data": {
      "text/plain": [
       "'cat'"
      ]
     },
     "execution_count": 33,
     "metadata": {},
     "output_type": "execute_result"
    }
   ],
   "source": [
    "#dictionaries\n",
    "\n",
    "dict = {'k1': 'cat', 'k2': 'dog', 'k3': 'parrot'}\n",
    "dict['k1']"
   ]
  },
  {
   "cell_type": "code",
   "execution_count": 34,
   "id": "b5f6a6c3-a173-4c3f-a11f-7c7eee7ff602",
   "metadata": {},
   "outputs": [
    {
     "data": {
      "text/plain": [
       "'parrot'"
      ]
     },
     "execution_count": 34,
     "metadata": {},
     "output_type": "execute_result"
    }
   ],
   "source": [
    "dict['k3']"
   ]
  },
  {
   "cell_type": "code",
   "execution_count": 35,
   "id": "e2562c98-1800-47b1-85f9-ede928c330b6",
   "metadata": {},
   "outputs": [
    {
     "data": {
      "text/plain": [
       "{'k1': 'cat', 'k2': 'dog', 'k3': 'parrot', 'k4': 'mouse'}"
      ]
     },
     "execution_count": 35,
     "metadata": {},
     "output_type": "execute_result"
    }
   ],
   "source": [
    "dict['k4'] = 'mouse'\n",
    "dict"
   ]
  },
  {
   "cell_type": "code",
   "execution_count": 36,
   "id": "6fd92590-dabc-4e92-b787-b134b7420afa",
   "metadata": {},
   "outputs": [
    {
     "data": {
      "text/plain": [
       "{'k1': 'dolphin', 'k2': 'dog', 'k3': 'parrot', 'k4': 'mouse'}"
      ]
     },
     "execution_count": 36,
     "metadata": {},
     "output_type": "execute_result"
    }
   ],
   "source": [
    "dict['k1']='dolphin'\n",
    "dict"
   ]
  },
  {
   "cell_type": "code",
   "execution_count": 42,
   "id": "422d0417-9fd4-4c01-b412-e56f042feef0",
   "metadata": {},
   "outputs": [],
   "source": [
    "dep_workers = {'dep_1': 'Peter', 'dep_2': ['Mark', 'Jennifer', 'Tommy']}"
   ]
  },
  {
   "cell_type": "code",
   "execution_count": 43,
   "id": "55e22b8f-3ba0-4714-a7ac-495e4d350fef",
   "metadata": {},
   "outputs": [
    {
     "data": {
      "text/plain": [
       "'Peter'"
      ]
     },
     "execution_count": 43,
     "metadata": {},
     "output_type": "execute_result"
    }
   ],
   "source": [
    "dep_workers['dep_1']"
   ]
  },
  {
   "cell_type": "code",
   "execution_count": 44,
   "id": "6c6e39b2-2045-43bf-b4b7-7dd9538a091e",
   "metadata": {},
   "outputs": [
    {
     "data": {
      "text/plain": [
       "['Mark', 'Jennifer', 'Tommy']"
      ]
     },
     "execution_count": 44,
     "metadata": {},
     "output_type": "execute_result"
    }
   ],
   "source": [
    "dep_workers['dep_2']"
   ]
  },
  {
   "cell_type": "code",
   "execution_count": 45,
   "id": "835b7a5a-095c-4580-85d4-0b66cf2e7864",
   "metadata": {},
   "outputs": [
    {
     "name": "stdout",
     "output_type": "stream",
     "text": [
      "{'Alpha': 'Male', 'Beta': 'Dogs', 'Ceta': 'Mice', 'Center': 'Ashbal'}\n"
     ]
    }
   ],
   "source": [
    "Team = {}\n",
    "Team['Alpha'] = 'Male'\n",
    "Team['Beta'] = 'Dogs'\n",
    "Team['Ceta'] = 'Mice'\n",
    "Team['Center'] = 'Ashbal'\n",
    "print(Team)"
   ]
  },
  {
   "cell_type": "code",
   "execution_count": 46,
   "id": "87389e27-733b-42d4-bace-27a693554d94",
   "metadata": {},
   "outputs": [
    {
     "data": {
      "text/plain": [
       "'Male'"
      ]
     },
     "execution_count": 46,
     "metadata": {},
     "output_type": "execute_result"
    }
   ],
   "source": [
    "Team.get('Alpha')"
   ]
  },
  {
   "cell_type": "code",
   "execution_count": 48,
   "id": "4e7e85e6-a40f-4e7c-b125-2c28950b9a7e",
   "metadata": {},
   "outputs": [
    {
     "name": "stdout",
     "output_type": "stream",
     "text": [
      "None\n"
     ]
    }
   ],
   "source": [
    "print(Team.get('Rum'))"
   ]
  },
  {
   "cell_type": "code",
   "execution_count": 52,
   "id": "21185459-f63e-4670-979a-d752781c3a98",
   "metadata": {},
   "outputs": [
    {
     "name": "stdout",
     "output_type": "stream",
     "text": [
      "{'meal_1': 'Spaghetti', 'meal_2': 'Fries', 'meal_3': 'Cheeseburger', 'meal_4': 'Lasagna', 'meal_5': 'Soup', 'meal_6': ['Pancakes', 'Ice-cream', 'Tiramisu']}\n"
     ]
    }
   ],
   "source": [
    "Dessert = ['Pancakes', 'Ice-cream', 'Tiramisu']\n",
    "\n",
    "Menu = {'meal_1':'Spaghetti', 'meal_2':'Fries', 'meal_3':'Cheeseburger', 'meal_4': 'Lasagna', 'meal_5':'Soup', 'meal_6': Dessert}\n",
    "\n",
    "print(Menu)"
   ]
  },
  {
   "cell_type": "code",
   "execution_count": 62,
   "id": "165ee3f9-9914-409f-8186-7a59b29f8675",
   "metadata": {},
   "outputs": [
    {
     "data": {
      "text/plain": [
       "[0, 2, 4, 6, 8, 10]"
      ]
     },
     "execution_count": 62,
     "metadata": {},
     "output_type": "execute_result"
    }
   ],
   "source": [
    "# For Loop\n",
    "\n",
    "list = [0, 1, 2, 3, 4, 5, 6, 7, 8, 9, 10]\n",
    "even_list = []\n",
    "\n",
    "for i in list:\n",
    "    if i % 2 == 0:\n",
    "        even_list.append(i)\n",
    "\n",
    "even_list\n"
   ]
  },
  {
   "cell_type": "code",
   "execution_count": 63,
   "id": "e9a953c6-d971-470e-8762-b203cb08c74a",
   "metadata": {},
   "outputs": [
    {
     "name": "stdout",
     "output_type": "stream",
     "text": [
      "0 1 2 3 4 5 6 7 8 9 "
     ]
    }
   ],
   "source": [
    "digits = [0,1,2,3,4,5,6,7,8,9]\n",
    "\n",
    "for x in digits:\n",
    "    print(x, end=' ')"
   ]
  },
  {
   "cell_type": "code",
   "execution_count": 64,
   "id": "97530143-98b6-4d7f-8560-e5f294267d67",
   "metadata": {},
   "outputs": [
    {
     "name": "stdout",
     "output_type": "stream",
     "text": [
      "1 3 5 7 9 11 13 15 17 19 21 23 25 27 29 "
     ]
    }
   ],
   "source": [
    "# While Loop\n",
    "\n",
    "x = 0\n",
    "while x <= 30:\n",
    "    if x % 2 != 0:\n",
    "        print(x, end=' ')\n",
    "    x+=1"
   ]
  },
  {
   "cell_type": "code",
   "execution_count": 66,
   "id": "eafc4027-90de-46b8-aab3-03ceef764362",
   "metadata": {},
   "outputs": [
    {
     "data": {
      "text/plain": [
       "range(0, 10)"
      ]
     },
     "execution_count": 66,
     "metadata": {},
     "output_type": "execute_result"
    }
   ],
   "source": [
    "# range (start, stop, sequence)\n",
    "\n",
    "range(0, 10)"
   ]
  },
  {
   "cell_type": "code",
   "execution_count": 67,
   "id": "7ca97e27-c65c-46d6-9fc8-a1c634f857e9",
   "metadata": {},
   "outputs": [
    {
     "data": {
      "text/plain": [
       "range(0, 10, 2)"
      ]
     },
     "execution_count": 67,
     "metadata": {},
     "output_type": "execute_result"
    }
   ],
   "source": [
    "range(0, 10, 2)"
   ]
  },
  {
   "cell_type": "code",
   "execution_count": 78,
   "id": "fcf80611-32f1-4c58-93a3-78faa2fefd06",
   "metadata": {},
   "outputs": [
    {
     "name": "stdout",
     "output_type": "stream",
     "text": [
      "<class 'range'>\n"
     ]
    }
   ],
   "source": [
    "print(range)"
   ]
  },
  {
   "cell_type": "code",
   "execution_count": 80,
   "id": "308ff6d7-9eaa-4bf6-bed5-387fd6076558",
   "metadata": {},
   "outputs": [
    {
     "data": {
      "text/plain": [
       "range(3, 7)"
      ]
     },
     "execution_count": 80,
     "metadata": {},
     "output_type": "execute_result"
    }
   ],
   "source": [
    "range(3, 7)"
   ]
  },
  {
   "cell_type": "code",
   "execution_count": 82,
   "id": "34d2c245-c00d-4336-878c-7299354d9dae",
   "metadata": {},
   "outputs": [],
   "source": [
    "del list"
   ]
  },
  {
   "cell_type": "code",
   "execution_count": 83,
   "id": "91b75d92-5054-4e39-9f89-3f3af14566bf",
   "metadata": {},
   "outputs": [
    {
     "data": {
      "text/plain": [
       "[3, 4, 5, 6]"
      ]
     },
     "execution_count": 83,
     "metadata": {},
     "output_type": "execute_result"
    }
   ],
   "source": [
    "list(range(3, 7))"
   ]
  },
  {
   "cell_type": "code",
   "execution_count": 84,
   "id": "137b76ef-850e-4122-b4fc-bab57fa9438a",
   "metadata": {},
   "outputs": [
    {
     "data": {
      "text/plain": [
       "[3, 5, 7, 9, 11, 13, 15, 17, 19]"
      ]
     },
     "execution_count": 84,
     "metadata": {},
     "output_type": "execute_result"
    }
   ],
   "source": [
    "list(range(3, 20, 2))"
   ]
  },
  {
   "cell_type": "code",
   "execution_count": 87,
   "id": "cf027416-7907-41cb-9405-a787cf159218",
   "metadata": {},
   "outputs": [
    {
     "name": "stdout",
     "output_type": "stream",
     "text": [
      "1 2 4 8 16 32 64 128 256 512 "
     ]
    }
   ],
   "source": [
    "for n in range(10):\n",
    "    print(2 ** n , end=' ')"
   ]
  },
  {
   "cell_type": "code",
   "execution_count": 91,
   "id": "a60f0a6c-bbf9-4fea-9ae4-4b66618e0873",
   "metadata": {},
   "outputs": [
    {
     "name": "stdout",
     "output_type": "stream",
     "text": [
      "0 is an even number 1 is an odd number 2 is an even number 3 is an odd number 4 is an even number 5 is an odd number 6 is an even number 7 is an odd number 8 is an even number 9 is an odd number 10 is an even number 11 is an odd number 12 is an even number 13 is an odd number 14 is an even number 15 is an odd number 16 is an even number 17 is an odd number 18 is an even number 19 is an odd number "
     ]
    }
   ],
   "source": [
    "for n in range(20):\n",
    "    if(n % 2 == 0):\n",
    "        print(f'{n} is an even number', end=' ')\n",
    "    else:\n",
    "        print(f'{n} is an odd number', end=' ')"
   ]
  },
  {
   "cell_type": "code",
   "execution_count": 92,
   "id": "6ddbe1b8-9a0d-4d33-847b-c7b7486021ef",
   "metadata": {},
   "outputs": [
    {
     "name": "stdout",
     "output_type": "stream",
     "text": [
      "1\n",
      "2\n",
      "4\n"
     ]
    }
   ],
   "source": [
    "x = [1, 2, 4]\n",
    "\n",
    "for num in x:\n",
    "    print(num)"
   ]
  },
  {
   "cell_type": "code",
   "execution_count": 94,
   "id": "b6729600-ec60-40f4-8b3b-d07dc3474ea5",
   "metadata": {},
   "outputs": [
    {
     "name": "stdout",
     "output_type": "stream",
     "text": [
      "3\n",
      "4\n",
      "6\n"
     ]
    }
   ],
   "source": [
    "for numz in range(len(x)):\n",
    "    print(x[numz] + 2)"
   ]
  },
  {
   "cell_type": "code",
   "execution_count": 95,
   "id": "d91a8a22-0a32-4f31-abde-0db7b296694f",
   "metadata": {},
   "outputs": [
    {
     "name": "stdout",
     "output_type": "stream",
     "text": [
      "1 Even 3 Even 5 Even 7 Even 9 Even 11 Even 13 Even 15 Even 17 Even 19 Even 21 Even 23 Even 25 Even 27 Even 29 Even "
     ]
    }
   ],
   "source": [
    "for x in range(1, 31):\n",
    "    if(x % 2 != 0):\n",
    "        print(x, end=' ')\n",
    "    else: \n",
    "        print(\"Even\", end=' ')"
   ]
  },
  {
   "cell_type": "code",
   "execution_count": 100,
   "id": "bdf08282-daf6-40f4-8df1-591cac834038",
   "metadata": {},
   "outputs": [
    {
     "data": {
      "text/plain": [
       "6"
      ]
     },
     "execution_count": 100,
     "metadata": {},
     "output_type": "execute_result"
    }
   ],
   "source": [
    "# How many numbers under 20\n",
    "def count (numbers):\n",
    "    total = 0\n",
    "    for x in numbers:\n",
    "        if x < 20:\n",
    "            total += 1\n",
    "    return total\n",
    "\n",
    "list_1 = [1, 2, 2, 5, 6, 20, 25, 5]\n",
    "\n",
    "count(list_1)"
   ]
  },
  {
   "cell_type": "code",
   "execution_count": 102,
   "id": "897efb7f-acbe-44c1-95ff-14b09f7c0b5b",
   "metadata": {},
   "outputs": [
    {
     "name": "stdout",
     "output_type": "stream",
     "text": [
      "215\n"
     ]
    }
   ],
   "source": [
    "# loop dictionaries\n",
    "\n",
    "prices = {\n",
    "    \"hamburger\": 5,\n",
    "    \"cheese\": 10,\n",
    "    \"shrimp\": 7\n",
    "}\n",
    "\n",
    "quantity = {\n",
    "    \"hamburger\": 9,\n",
    "    \"cheese\": 3,\n",
    "    \"shrimp\": 20\n",
    "}\n",
    "\n",
    "total = 0\n",
    "\n",
    "for x in prices: \n",
    "    total = total + (prices[x] * quantity[x])\n",
    "print(total)"
   ]
  },
  {
   "cell_type": "code",
   "execution_count": 104,
   "id": "76898263-aa1c-4cb3-b956-e037d4ab62ae",
   "metadata": {},
   "outputs": [
    {
     "name": "stdout",
     "output_type": "stream",
     "text": [
      "0\n"
     ]
    }
   ],
   "source": [
    "prices = {\n",
    "    \"box_of_spaghetti\" : 4,\n",
    "    \"lasagna\"  : 5,\n",
    "    \"hamburger\" : 2\n",
    "   }\n",
    "quantity = {\n",
    "    \"box_of_spaghetti\" : 6,\n",
    "    \"lasagna\"  : 10,\n",
    "    \"hamburger\" : 0\n",
    "    }\n",
    "\n",
    "money_spent = 0\n",
    "\n",
    "for i in prices:\n",
    "    if prices[i] > 5:\n",
    "        money_spent = money_spent + (prices[i] * quantity[i])\n",
    "        \n",
    "print(money_spent)"
   ]
  },
  {
   "cell_type": "code",
   "execution_count": 105,
   "id": "784af4f2-e935-4d6b-8e93-6d891c35b79b",
   "metadata": {},
   "outputs": [
    {
     "data": {
      "text/plain": [
       "9.0"
      ]
     },
     "execution_count": 105,
     "metadata": {},
     "output_type": "execute_result"
    }
   ],
   "source": [
    "# ways to import modules\n",
    "\n",
    "import math\n",
    "\n",
    "math.sqrt(81)"
   ]
  },
  {
   "cell_type": "code",
   "execution_count": 107,
   "id": "8d9e40e8-bf5b-4493-8442-a99bf858177a",
   "metadata": {},
   "outputs": [
    {
     "data": {
      "text/plain": [
       "9.0"
      ]
     },
     "execution_count": 107,
     "metadata": {},
     "output_type": "execute_result"
    }
   ],
   "source": [
    "from math import sqrt as s\n",
    "\n",
    "s(81)"
   ]
  },
  {
   "cell_type": "code",
   "execution_count": 108,
   "id": "7ab4f12a-2acd-43f6-8b40-571c5238d469",
   "metadata": {},
   "outputs": [
    {
     "name": "stdout",
     "output_type": "stream",
     "text": [
      "Help on module math:\n",
      "\n",
      "NAME\n",
      "    math\n",
      "\n",
      "MODULE REFERENCE\n",
      "    https://docs.python.org/3.13/library/math.html\n",
      "\n",
      "    The following documentation is automatically generated from the Python\n",
      "    source files.  It may be incomplete, incorrect or include features that\n",
      "    are considered implementation detail and may vary between Python\n",
      "    implementations.  When in doubt, consult the module reference at the\n",
      "    location listed above.\n",
      "\n",
      "DESCRIPTION\n",
      "    This module provides access to the mathematical functions\n",
      "    defined by the C standard.\n",
      "\n",
      "FUNCTIONS\n",
      "    acos(x, /)\n",
      "        Return the arc cosine (measured in radians) of x.\n",
      "\n",
      "        The result is between 0 and pi.\n",
      "\n",
      "    acosh(x, /)\n",
      "        Return the inverse hyperbolic cosine of x.\n",
      "\n",
      "    asin(x, /)\n",
      "        Return the arc sine (measured in radians) of x.\n",
      "\n",
      "        The result is between -pi/2 and pi/2.\n",
      "\n",
      "    asinh(x, /)\n",
      "        Return the inverse hyperbolic sine of x.\n",
      "\n",
      "    atan(x, /)\n",
      "        Return the arc tangent (measured in radians) of x.\n",
      "\n",
      "        The result is between -pi/2 and pi/2.\n",
      "\n",
      "    atan2(y, x, /)\n",
      "        Return the arc tangent (measured in radians) of y/x.\n",
      "\n",
      "        Unlike atan(y/x), the signs of both x and y are considered.\n",
      "\n",
      "    atanh(x, /)\n",
      "        Return the inverse hyperbolic tangent of x.\n",
      "\n",
      "    cbrt(x, /)\n",
      "        Return the cube root of x.\n",
      "\n",
      "    ceil(x, /)\n",
      "        Return the ceiling of x as an Integral.\n",
      "\n",
      "        This is the smallest integer >= x.\n",
      "\n",
      "    comb(n, k, /)\n",
      "        Number of ways to choose k items from n items without repetition and without order.\n",
      "\n",
      "        Evaluates to n! / (k! * (n - k)!) when k <= n and evaluates\n",
      "        to zero when k > n.\n",
      "\n",
      "        Also called the binomial coefficient because it is equivalent\n",
      "        to the coefficient of k-th term in polynomial expansion of the\n",
      "        expression (1 + x)**n.\n",
      "\n",
      "        Raises TypeError if either of the arguments are not integers.\n",
      "        Raises ValueError if either of the arguments are negative.\n",
      "\n",
      "    copysign(x, y, /)\n",
      "        Return a float with the magnitude (absolute value) of x but the sign of y.\n",
      "\n",
      "        On platforms that support signed zeros, copysign(1.0, -0.0)\n",
      "        returns -1.0.\n",
      "\n",
      "    cos(x, /)\n",
      "        Return the cosine of x (measured in radians).\n",
      "\n",
      "    cosh(x, /)\n",
      "        Return the hyperbolic cosine of x.\n",
      "\n",
      "    degrees(x, /)\n",
      "        Convert angle x from radians to degrees.\n",
      "\n",
      "    dist(p, q, /)\n",
      "        Return the Euclidean distance between two points p and q.\n",
      "\n",
      "        The points should be specified as sequences (or iterables) of\n",
      "        coordinates.  Both inputs must have the same dimension.\n",
      "\n",
      "        Roughly equivalent to:\n",
      "            sqrt(sum((px - qx) ** 2.0 for px, qx in zip(p, q)))\n",
      "\n",
      "    erf(x, /)\n",
      "        Error function at x.\n",
      "\n",
      "    erfc(x, /)\n",
      "        Complementary error function at x.\n",
      "\n",
      "    exp(x, /)\n",
      "        Return e raised to the power of x.\n",
      "\n",
      "    exp2(x, /)\n",
      "        Return 2 raised to the power of x.\n",
      "\n",
      "    expm1(x, /)\n",
      "        Return exp(x)-1.\n",
      "\n",
      "        This function avoids the loss of precision involved in the direct evaluation of exp(x)-1 for small x.\n",
      "\n",
      "    fabs(x, /)\n",
      "        Return the absolute value of the float x.\n",
      "\n",
      "    factorial(n, /)\n",
      "        Find n!.\n",
      "\n",
      "    floor(x, /)\n",
      "        Return the floor of x as an Integral.\n",
      "\n",
      "        This is the largest integer <= x.\n",
      "\n",
      "    fma(x, y, z, /)\n",
      "        Fused multiply-add operation.\n",
      "\n",
      "        Compute (x * y) + z with a single round.\n",
      "\n",
      "    fmod(x, y, /)\n",
      "        Return fmod(x, y), according to platform C.\n",
      "\n",
      "        x % y may differ.\n",
      "\n",
      "    frexp(x, /)\n",
      "        Return the mantissa and exponent of x, as pair (m, e).\n",
      "\n",
      "        m is a float and e is an int, such that x = m * 2.**e.\n",
      "        If x is 0, m and e are both 0.  Else 0.5 <= abs(m) < 1.0.\n",
      "\n",
      "    fsum(seq, /)\n",
      "        Return an accurate floating-point sum of values in the iterable seq.\n",
      "\n",
      "        Assumes IEEE-754 floating-point arithmetic.\n",
      "\n",
      "    gamma(x, /)\n",
      "        Gamma function at x.\n",
      "\n",
      "    gcd(*integers)\n",
      "        Greatest Common Divisor.\n",
      "\n",
      "    hypot(...)\n",
      "        hypot(*coordinates) -> value\n",
      "\n",
      "        Multidimensional Euclidean distance from the origin to a point.\n",
      "\n",
      "        Roughly equivalent to:\n",
      "            sqrt(sum(x**2 for x in coordinates))\n",
      "\n",
      "        For a two dimensional point (x, y), gives the hypotenuse\n",
      "        using the Pythagorean theorem:  sqrt(x*x + y*y).\n",
      "\n",
      "        For example, the hypotenuse of a 3/4/5 right triangle is:\n",
      "\n",
      "            >>> hypot(3.0, 4.0)\n",
      "            5.0\n",
      "\n",
      "    isclose(a, b, *, rel_tol=1e-09, abs_tol=0.0)\n",
      "        Determine whether two floating-point numbers are close in value.\n",
      "\n",
      "          rel_tol\n",
      "            maximum difference for being considered \"close\", relative to the\n",
      "            magnitude of the input values\n",
      "          abs_tol\n",
      "            maximum difference for being considered \"close\", regardless of the\n",
      "            magnitude of the input values\n",
      "\n",
      "        Return True if a is close in value to b, and False otherwise.\n",
      "\n",
      "        For the values to be considered close, the difference between them\n",
      "        must be smaller than at least one of the tolerances.\n",
      "\n",
      "        -inf, inf and NaN behave similarly to the IEEE 754 Standard.  That\n",
      "        is, NaN is not close to anything, even itself.  inf and -inf are\n",
      "        only close to themselves.\n",
      "\n",
      "    isfinite(x, /)\n",
      "        Return True if x is neither an infinity nor a NaN, and False otherwise.\n",
      "\n",
      "    isinf(x, /)\n",
      "        Return True if x is a positive or negative infinity, and False otherwise.\n",
      "\n",
      "    isnan(x, /)\n",
      "        Return True if x is a NaN (not a number), and False otherwise.\n",
      "\n",
      "    isqrt(n, /)\n",
      "        Return the integer part of the square root of the input.\n",
      "\n",
      "    lcm(*integers)\n",
      "        Least Common Multiple.\n",
      "\n",
      "    ldexp(x, i, /)\n",
      "        Return x * (2**i).\n",
      "\n",
      "        This is essentially the inverse of frexp().\n",
      "\n",
      "    lgamma(x, /)\n",
      "        Natural logarithm of absolute value of Gamma function at x.\n",
      "\n",
      "    log(...)\n",
      "        log(x, [base=math.e])\n",
      "        Return the logarithm of x to the given base.\n",
      "\n",
      "        If the base is not specified, returns the natural logarithm (base e) of x.\n",
      "\n",
      "    log10(x, /)\n",
      "        Return the base 10 logarithm of x.\n",
      "\n",
      "    log1p(x, /)\n",
      "        Return the natural logarithm of 1+x (base e).\n",
      "\n",
      "        The result is computed in a way which is accurate for x near zero.\n",
      "\n",
      "    log2(x, /)\n",
      "        Return the base 2 logarithm of x.\n",
      "\n",
      "    modf(x, /)\n",
      "        Return the fractional and integer parts of x.\n",
      "\n",
      "        Both results carry the sign of x and are floats.\n",
      "\n",
      "    nextafter(x, y, /, *, steps=None)\n",
      "        Return the floating-point value the given number of steps after x towards y.\n",
      "\n",
      "        If steps is not specified or is None, it defaults to 1.\n",
      "\n",
      "        Raises a TypeError, if x or y is not a double, or if steps is not an integer.\n",
      "        Raises ValueError if steps is negative.\n",
      "\n",
      "    perm(n, k=None, /)\n",
      "        Number of ways to choose k items from n items without repetition and with order.\n",
      "\n",
      "        Evaluates to n! / (n - k)! when k <= n and evaluates\n",
      "        to zero when k > n.\n",
      "\n",
      "        If k is not specified or is None, then k defaults to n\n",
      "        and the function returns n!.\n",
      "\n",
      "        Raises TypeError if either of the arguments are not integers.\n",
      "        Raises ValueError if either of the arguments are negative.\n",
      "\n",
      "    pow(x, y, /)\n",
      "        Return x**y (x to the power of y).\n",
      "\n",
      "    prod(iterable, /, *, start=1)\n",
      "        Calculate the product of all the elements in the input iterable.\n",
      "\n",
      "        The default start value for the product is 1.\n",
      "\n",
      "        When the iterable is empty, return the start value.  This function is\n",
      "        intended specifically for use with numeric values and may reject\n",
      "        non-numeric types.\n",
      "\n",
      "    radians(x, /)\n",
      "        Convert angle x from degrees to radians.\n",
      "\n",
      "    remainder(x, y, /)\n",
      "        Difference between x and the closest integer multiple of y.\n",
      "\n",
      "        Return x - n*y where n*y is the closest integer multiple of y.\n",
      "        In the case where x is exactly halfway between two multiples of\n",
      "        y, the nearest even value of n is used. The result is always exact.\n",
      "\n",
      "    sin(x, /)\n",
      "        Return the sine of x (measured in radians).\n",
      "\n",
      "    sinh(x, /)\n",
      "        Return the hyperbolic sine of x.\n",
      "\n",
      "    sqrt(x, /)\n",
      "        Return the square root of x.\n",
      "\n",
      "    sumprod(p, q, /)\n",
      "        Return the sum of products of values from two iterables p and q.\n",
      "\n",
      "        Roughly equivalent to:\n",
      "\n",
      "            sum(itertools.starmap(operator.mul, zip(p, q, strict=True)))\n",
      "\n",
      "        For float and mixed int/float inputs, the intermediate products\n",
      "        and sums are computed with extended precision.\n",
      "\n",
      "    tan(x, /)\n",
      "        Return the tangent of x (measured in radians).\n",
      "\n",
      "    tanh(x, /)\n",
      "        Return the hyperbolic tangent of x.\n",
      "\n",
      "    trunc(x, /)\n",
      "        Truncates the Real x to the nearest Integral toward 0.\n",
      "\n",
      "        Uses the __trunc__ magic method.\n",
      "\n",
      "    ulp(x, /)\n",
      "        Return the value of the least significant bit of the float x.\n",
      "\n",
      "DATA\n",
      "    e = 2.718281828459045\n",
      "    inf = inf\n",
      "    nan = nan\n",
      "    pi = 3.141592653589793\n",
      "    tau = 6.283185307179586\n",
      "\n",
      "FILE\n",
      "    /Users/moe/miniconda3/lib/python3.13/lib-dynload/math.cpython-313-darwin.so\n",
      "\n",
      "\n"
     ]
    }
   ],
   "source": [
    "help(math)"
   ]
  },
  {
   "cell_type": "code",
   "execution_count": 109,
   "id": "8d48dfd2-8304-4f70-ac42-1de099bbba31",
   "metadata": {},
   "outputs": [
    {
     "data": {
      "text/plain": [
       "'i am not who i thought i was'"
      ]
     },
     "execution_count": 109,
     "metadata": {},
     "output_type": "execute_result"
    }
   ],
   "source": [
    "# convert data to lowercase\n",
    "\n",
    "class_act = 'I am Not Who I thought I wAs'\n",
    "class_act.lower()"
   ]
  },
  {
   "cell_type": "code",
   "execution_count": 115,
   "id": "3766acb2-254e-4eb2-a946-73a897013870",
   "metadata": {},
   "outputs": [
    {
     "data": {
      "text/plain": [
       "['i am not here', 'why do yu say', 'let not fool anyone']"
      ]
     },
     "execution_count": 115,
     "metadata": {},
     "output_type": "execute_result"
    }
   ],
   "source": [
    "sentence_list = ['I AM NOT HERE', 'WHY DO YU SAY', 'LET noT Fool AnyONE']\n",
    "sentence_list_lower = []\n",
    "\n",
    "for x in sentence_list:\n",
    "    sentence_list_lower.append(x.lower())\n",
    "    \n",
    "sentence_list_lower"
   ]
  },
  {
   "cell_type": "code",
   "execution_count": 118,
   "id": "9bee1980-9af7-48ce-b47d-89c0e9858f33",
   "metadata": {},
   "outputs": [
    {
     "data": {
      "text/plain": [
       "['i am not here', 'why do yu say', 'let not fool anyone']"
      ]
     },
     "execution_count": 118,
     "metadata": {},
     "output_type": "execute_result"
    }
   ],
   "source": [
    "sentence_list_2 = ['I AM NOT HERE', 'WHY DO YU SAY', 'LET noT Fool AnyONE']\n",
    "sentence_list_2_lower = [x.lower() for x in sentence_list_2]\n",
    "sentence_list_2_lower"
   ]
  },
  {
   "cell_type": "code",
   "execution_count": 123,
   "id": "f0ce4935-aff2-4bb1-9984-ffb04094af1a",
   "metadata": {},
   "outputs": [
    {
     "name": "stdout",
     "output_type": "stream",
     "text": [
      "Collecting nltk\n",
      "  Downloading nltk-3.9.1-py3-none-any.whl.metadata (2.9 kB)\n",
      "Collecting click (from nltk)\n",
      "  Downloading click-8.2.1-py3-none-any.whl.metadata (2.5 kB)\n",
      "Collecting joblib (from nltk)\n",
      "  Downloading joblib-1.5.1-py3-none-any.whl.metadata (5.6 kB)\n",
      "Collecting regex>=2021.8.3 (from nltk)\n",
      "  Downloading regex-2024.11.6-cp313-cp313-macosx_10_13_x86_64.whl.metadata (40 kB)\n",
      "Requirement already satisfied: tqdm in /Users/moe/miniconda3/lib/python3.13/site-packages (from nltk) (4.67.1)\n",
      "Downloading nltk-3.9.1-py3-none-any.whl (1.5 MB)\n",
      "\u001b[2K   \u001b[90m━━━━━━━━━━━━━━━━━━━━━━━━━━━━━━━━━━━━━━━━\u001b[0m \u001b[32m1.5/1.5 MB\u001b[0m \u001b[31m5.1 MB/s\u001b[0m eta \u001b[36m0:00:00\u001b[0ma \u001b[36m0:00:01\u001b[0m\n",
      "\u001b[?25hDownloading regex-2024.11.6-cp313-cp313-macosx_10_13_x86_64.whl (288 kB)\n",
      "Downloading click-8.2.1-py3-none-any.whl (102 kB)\n",
      "Downloading joblib-1.5.1-py3-none-any.whl (307 kB)\n",
      "Installing collected packages: regex, joblib, click, nltk\n",
      "\u001b[2K   \u001b[90m━━━━━━━━━━━━━━━━━━━━━━━━━━━━━━━━━━━━━━━━\u001b[0m \u001b[32m4/4\u001b[0m [nltk][32m3/4\u001b[0m [nltk]]]\n",
      "\u001b[1A\u001b[2KSuccessfully installed click-8.2.1 joblib-1.5.1 nltk-3.9.1 regex-2024.11.6\n"
     ]
    }
   ],
   "source": [
    "!pip install nltk\n"
   ]
  },
  {
   "cell_type": "code",
   "execution_count": 124,
   "id": "ddde2c5e-c4e8-494e-9b91-d953ced204d9",
   "metadata": {},
   "outputs": [
    {
     "name": "stderr",
     "output_type": "stream",
     "text": [
      "[nltk_data] Downloading package stopwords to /Users/moe/nltk_data...\n",
      "[nltk_data]   Unzipping corpora/stopwords.zip.\n"
     ]
    }
   ],
   "source": [
    "# remove stopwords\n",
    "\n",
    "import nltk\n",
    "nltk.download('stopwords')\n",
    "from nltk.corpus import stopwords"
   ]
  },
  {
   "cell_type": "code",
   "execution_count": 125,
   "id": "c5de03a1-5d3f-4300-96b7-e570dfb489c9",
   "metadata": {},
   "outputs": [],
   "source": [
    "en_stopwords = stopwords.words('english')"
   ]
  },
  {
   "cell_type": "code",
   "execution_count": 126,
   "id": "40f14aa8-9939-452f-bd05-cc9a3db2518c",
   "metadata": {},
   "outputs": [
    {
     "name": "stdout",
     "output_type": "stream",
     "text": [
      "['a', 'about', 'above', 'after', 'again', 'against', 'ain', 'all', 'am', 'an', 'and', 'any', 'are', 'aren', \"aren't\", 'as', 'at', 'be', 'because', 'been', 'before', 'being', 'below', 'between', 'both', 'but', 'by', 'can', 'couldn', \"couldn't\", 'd', 'did', 'didn', \"didn't\", 'do', 'does', 'doesn', \"doesn't\", 'doing', 'don', \"don't\", 'down', 'during', 'each', 'few', 'for', 'from', 'further', 'had', 'hadn', \"hadn't\", 'has', 'hasn', \"hasn't\", 'have', 'haven', \"haven't\", 'having', 'he', \"he'd\", \"he'll\", 'her', 'here', 'hers', 'herself', \"he's\", 'him', 'himself', 'his', 'how', 'i', \"i'd\", 'if', \"i'll\", \"i'm\", 'in', 'into', 'is', 'isn', \"isn't\", 'it', \"it'd\", \"it'll\", \"it's\", 'its', 'itself', \"i've\", 'just', 'll', 'm', 'ma', 'me', 'mightn', \"mightn't\", 'more', 'most', 'mustn', \"mustn't\", 'my', 'myself', 'needn', \"needn't\", 'no', 'nor', 'not', 'now', 'o', 'of', 'off', 'on', 'once', 'only', 'or', 'other', 'our', 'ours', 'ourselves', 'out', 'over', 'own', 're', 's', 'same', 'shan', \"shan't\", 'she', \"she'd\", \"she'll\", \"she's\", 'should', 'shouldn', \"shouldn't\", \"should've\", 'so', 'some', 'such', 't', 'than', 'that', \"that'll\", 'the', 'their', 'theirs', 'them', 'themselves', 'then', 'there', 'these', 'they', \"they'd\", \"they'll\", \"they're\", \"they've\", 'this', 'those', 'through', 'to', 'too', 'under', 'until', 'up', 've', 'very', 'was', 'wasn', \"wasn't\", 'we', \"we'd\", \"we'll\", \"we're\", 'were', 'weren', \"weren't\", \"we've\", 'what', 'when', 'where', 'which', 'while', 'who', 'whom', 'why', 'will', 'with', 'won', \"won't\", 'wouldn', \"wouldn't\", 'y', 'you', \"you'd\", \"you'll\", 'your', \"you're\", 'yours', 'yourself', 'yourselves', \"you've\"]\n"
     ]
    }
   ],
   "source": [
    "print(en_stopwords)"
   ]
  },
  {
   "cell_type": "code",
   "execution_count": 127,
   "id": "20ce1493-df03-4cc5-9eaf-2cba83533578",
   "metadata": {},
   "outputs": [],
   "source": [
    "sentence_1 = 'it was too far to go to the shop and he did not want her to walk'"
   ]
  },
  {
   "cell_type": "code",
   "execution_count": 130,
   "id": "5810df7d-338f-4b46-b8f4-ac6220bcf4ea",
   "metadata": {},
   "outputs": [],
   "source": [
    "sentence_1_stopwords = ' '.join([word for word in sentence_1.split() if word not in en_stopwords])\n"
   ]
  },
  {
   "cell_type": "code",
   "execution_count": 135,
   "id": "ae85a751-ab5f-45b2-9623-61cb56d50a6c",
   "metadata": {},
   "outputs": [
    {
     "name": "stdout",
     "output_type": "stream",
     "text": [
      "far go shop want walk\n"
     ]
    }
   ],
   "source": [
    "print(sentence_1_stopwords)"
   ]
  },
  {
   "cell_type": "code",
   "execution_count": 136,
   "id": "bfaf4f35-b87b-4f3c-bbd3-e2f61b058c3c",
   "metadata": {},
   "outputs": [],
   "source": [
    "# regex\n",
    "\n",
    "import re"
   ]
  },
  {
   "cell_type": "code",
   "execution_count": 137,
   "id": "641c1377-2c28-45f9-a6ff-dd9a1a47c6ef",
   "metadata": {},
   "outputs": [
    {
     "data": {
      "text/plain": [
       "'/Users/moe/jupyter_note_pract_soft'"
      ]
     },
     "execution_count": 137,
     "metadata": {},
     "output_type": "execute_result"
    }
   ],
   "source": [
    "pwd"
   ]
  },
  {
   "cell_type": "code",
   "execution_count": 138,
   "id": "e0ad7c7c-b99d-4c7b-8c4d-bd87eff2c4be",
   "metadata": {},
   "outputs": [],
   "source": [
    "result_search = re.search(\"pattern\", r\"string to contain the pattern\")"
   ]
  },
  {
   "cell_type": "code",
   "execution_count": 139,
   "id": "d5f32e5d-8937-44f6-967a-5f5872c35727",
   "metadata": {},
   "outputs": [
    {
     "name": "stdout",
     "output_type": "stream",
     "text": [
      "<re.Match object; span=(22, 29), match='pattern'>\n"
     ]
    }
   ],
   "source": [
    "print(result_search)\n",
    "# re.search\n",
    "#it matches the string pattern and find first match in the sentence \"string to contain the pattern\" and provides its index span\n"
   ]
  },
  {
   "cell_type": "code",
   "execution_count": 141,
   "id": "a3624297-f4a6-416c-9ab3-84d230bcfe0f",
   "metadata": {},
   "outputs": [
    {
     "name": "stdout",
     "output_type": "stream",
     "text": [
      "None\n"
     ]
    }
   ],
   "source": [
    "result_search_2 = re.search(\"Iron\", r\"I am a Metallica Fan\")\n",
    "print(result_search_2)"
   ]
  },
  {
   "cell_type": "code",
   "execution_count": 144,
   "id": "92818af9-be2b-4193-a808-91a055522676",
   "metadata": {},
   "outputs": [
    {
     "name": "stdout",
     "output_type": "stream",
     "text": [
      "None\n"
     ]
    }
   ],
   "source": [
    "result_search_3 = re.search(\"Iron Maiden\", r\"I am a Maiden Fan\")\n",
    "print(result_search_3)"
   ]
  },
  {
   "cell_type": "code",
   "execution_count": 147,
   "id": "79aac3c5-9c6d-4d7c-8ea6-0b8ab8478c77",
   "metadata": {},
   "outputs": [
    {
     "name": "stdout",
     "output_type": "stream",
     "text": [
      "None\n"
     ]
    }
   ],
   "source": [
    "result_search_4 = re.search(\"maiden\", r\"I am a Maiden Fan\")\n",
    "print(result_search_4)"
   ]
  },
  {
   "cell_type": "code",
   "execution_count": 152,
   "id": "ad58b44c-c733-43fb-af4e-44fe74851104",
   "metadata": {},
   "outputs": [
    {
     "name": "stdout",
     "output_type": "stream",
     "text": [
      "I don't know where Sarah went\n"
     ]
    }
   ],
   "source": [
    "# re.sub replaces word as follows\n",
    "\n",
    "sara_string = r\"I don't know where sara went\"\n",
    "sara_string_enhanced = re.sub(\"sara\",  \"Sarah\", sara_string)\n",
    "print(sara_string_enhanced)"
   ]
  },
  {
   "cell_type": "code",
   "execution_count": 155,
   "id": "83fd3c1a-e6c4-443e-bac7-e3cc8d438afd",
   "metadata": {},
   "outputs": [],
   "source": [
    "customer_reviews = ['sam was a great help in the store', \"the cashier was very rude to me, I think her name was Eleanor\", \"Amazing work from Sadeen!\", \n",
    "\"sarah was able to me find the items I needed\", 'lucy is such an addition to the team',\n",
    "'great service from sara']\n"
   ]
  },
  {
   "cell_type": "code",
   "execution_count": 156,
   "id": "b817109d-f62f-42ca-97ea-a8687fa53a0a",
   "metadata": {},
   "outputs": [],
   "source": [
    "# I want to get all sara's reviews while considering mispelling\n",
    "\n",
    "sarahs_review = []"
   ]
  },
  {
   "cell_type": "code",
   "execution_count": 163,
   "id": "6096f520-8d5a-4ead-a9af-10e9116bfb69",
   "metadata": {},
   "outputs": [],
   "source": [
    "pattern_to_find = r\"sarah?\" #? after the h means it is an optional character to match so, it is like either sara or sarah"
   ]
  },
  {
   "cell_type": "code",
   "execution_count": 164,
   "id": "2e009b4d-002f-4fbd-951b-fe3af11b8dd8",
   "metadata": {},
   "outputs": [
    {
     "name": "stdout",
     "output_type": "stream",
     "text": [
      "['sarah was able to me find the items I needed', 'great service from sara', 'sarah was able to me find the items I needed', 'great service from sara']\n"
     ]
    }
   ],
   "source": [
    "for string in customer_reviews:\n",
    "    if(re.search(pattern_to_find, string)):\n",
    "        sarahs_review.append(string)\n",
    "\n",
    "print(sarahs_review)"
   ]
  },
  {
   "cell_type": "code",
   "execution_count": 185,
   "id": "da5feca8-8e9c-408e-84ca-6e2bcca925f7",
   "metadata": {},
   "outputs": [
    {
     "name": "stdout",
     "output_type": "stream",
     "text": [
      "['a Moe is, a wild wanted man', 'Mohamed is. indeed needed there', 'Mohamster!!!! and Ahmed are not friends']\n"
     ]
    }
   ],
   "source": [
    "# Get all reviews with Mo\n",
    "\n",
    "wild_sentences = [\n",
    "    'a Moe is, a wild wanted man',\n",
    "    'Mohamed is. indeed needed there', \n",
    "    'Mohamster!!!! and Ahmed are not friends',\n",
    "    'a Mamdouh is on board'\n",
    "]\n",
    "\n",
    "moe_sentences = []\n",
    "moe_pattern = r\"\\bmo(e|h)\" #optional e or h after mo\n",
    "\n",
    "for name in wild_sentences:\n",
    "    if(re.search(moe_pattern, name, re.IGNORECASE)):\n",
    "        moe_sentences.append(name)\n",
    "\n",
    "print(moe_sentences)"
   ]
  },
  {
   "cell_type": "code",
   "execution_count": 183,
   "id": "5f76798d-3195-4ed8-bcca-38205b63d6f0",
   "metadata": {},
   "outputs": [
    {
     "name": "stdout",
     "output_type": "stream",
     "text": [
      "['Jack helped me carry my groceries.', 'Jacque was very patient and kind.', 'Jake fixed the issue right want awa wily.']\n"
     ]
    }
   ],
   "source": [
    "sentences = [\n",
    "    \"Jack helped me carry my groceries.\",\n",
    "    \"Jacque was very patient and kind.\",\n",
    "    \"Jake fixed the issue right want awa wily.\",\n",
    "    \"Jasmine was also excellent.\",\n",
    "    \"Jackson did not show up.\"\n",
    "]\n",
    "\n",
    "matched_sentences = []\n",
    "pattern = r\"\\bja(c(k|que)|ke)\\b\"\n",
    "\n",
    "\n",
    "for sentence in sentences:\n",
    "    if re.search(pattern, sentence, re.IGNORECASE):\n",
    "        matched_sentences.append(sentence)\n",
    "\n",
    "print(matched_sentences)"
   ]
  },
  {
   "cell_type": "code",
   "execution_count": 176,
   "id": "0be6cd31-3093-4cb6-b263-2abb7c96e2ed",
   "metadata": {},
   "outputs": [
    {
     "name": "stdout",
     "output_type": "stream",
     "text": [
      "['a Moe is a wild man', 'a Mamdouh is on board']\n"
     ]
    }
   ],
   "source": [
    "# pattern that begins with a letter, in this case 'a'\n",
    "\n",
    "a_reviews = []\n",
    "pattern_to_find = r\"^a\"\n",
    "\n",
    "for name in wild_sentences:\n",
    "    if re.search(pattern_to_find, name):\n",
    "        a_reviews.append(name)\n",
    "\n",
    "print(a_reviews)"
   ]
  },
  {
   "cell_type": "code",
   "execution_count": 177,
   "id": "00b1375a-2cbb-47c4-b604-37d32b8c39e1",
   "metadata": {},
   "outputs": [
    {
     "name": "stdout",
     "output_type": "stream",
     "text": [
      "['a Mamdouh is on board']\n"
     ]
    }
   ],
   "source": [
    "# pattern that ends with a letter, in this case 'd'\n",
    "\n",
    "d_reviews = []\n",
    "pattern_to_find = r\"d$\"\n",
    "\n",
    "for name in wild_sentences:\n",
    "    if re.search(pattern_to_find, name):\n",
    "        d_reviews.append(name)\n",
    "\n",
    "print(d_reviews)"
   ]
  },
  {
   "cell_type": "code",
   "execution_count": 184,
   "id": "69b2235c-8874-43bc-b102-61e955f4ce63",
   "metadata": {},
   "outputs": [
    {
     "name": "stdout",
     "output_type": "stream",
     "text": [
      "['a Moe is a wild wanted man', 'Mohamed is indeed needed there']\n"
     ]
    }
   ],
   "source": [
    "# patter with multiple words\n",
    "needwant_reviews = []\n",
    "new_pattern_to_find = r\"(need|want)ed\"\n",
    "\n",
    "for stuff in wild_sentences:\n",
    "    if re.search(new_pattern_to_find, stuff):\n",
    "        needwant_reviews.append(stuff)\n",
    "\n",
    "print(needwant_reviews)\n"
   ]
  },
  {
   "cell_type": "code",
   "execution_count": 187,
   "id": "dd881338-97ae-4188-8666-a28938309f65",
   "metadata": {},
   "outputs": [
    {
     "name": "stdout",
     "output_type": "stream",
     "text": [
      "['a Moe is a wild wanted man', 'Mohamed is indeed needed there', 'Mohamster and Ahmed are not friends', 'a Mamdouh is on board']\n"
     ]
    }
   ],
   "source": [
    "# remove punctuation\n",
    "no_punctuation_reviews = []\n",
    "no_punc_pattern = r\"[^\\w\\s]\"\n",
    "\n",
    "for string in wild_sentences:\n",
    "    no_punc_string = re.sub(no_punc_pattern, \"\", string)\n",
    "    no_punctuation_reviews.append(no_punc_string)\n",
    "\n",
    "print(no_punctuation_reviews)\n"
   ]
  },
  {
   "cell_type": "code",
   "execution_count": 190,
   "id": "7e706618-dd5e-4f47-91fa-8b7aec8efaa4",
   "metadata": {},
   "outputs": [
    {
     "name": "stderr",
     "output_type": "stream",
     "text": [
      "[nltk_data] Downloading package punkt_tab to /Users/moe/nltk_data...\n",
      "[nltk_data]   Unzipping tokenizers/punkt_tab.zip.\n"
     ]
    }
   ],
   "source": [
    "nltk.download('punkt_tab')\n",
    "from nltk.tokenize import word_tokenize, sent_tokenize"
   ]
  },
  {
   "cell_type": "code",
   "execution_count": 192,
   "id": "7615a591-5bed-4651-a9a4-919d2ef3997b",
   "metadata": {},
   "outputs": [
    {
     "data": {
      "text/plain": [
       "[\"Her cat's name is no longer Luna, it is potato face\"]"
      ]
     },
     "execution_count": 192,
     "metadata": {},
     "output_type": "execute_result"
    }
   ],
   "source": [
    "july_sentence = \"Her cat's name is no longer Luna, it is potato face\"\n",
    "sent_tokenize(july_sentence)"
   ]
  },
  {
   "cell_type": "code",
   "execution_count": 193,
   "id": "2df1a135-3227-43a4-9f55-8e966486a000",
   "metadata": {},
   "outputs": [
    {
     "data": {
      "text/plain": [
       "['Her', 'cat', \"'s\", 'name', 'is', 'no', 'longer', 'Luna']"
      ]
     },
     "execution_count": 193,
     "metadata": {},
     "output_type": "execute_result"
    }
   ],
   "source": [
    "part_sentence_1 = \"Her cat's name is no longer Luna\"\n",
    "word_tokenize(part_sentence_1)"
   ]
  },
  {
   "cell_type": "code",
   "execution_count": 194,
   "id": "fd36679a-6ebf-4b48-91af-8a9a4bf5d17c",
   "metadata": {},
   "outputs": [
    {
     "data": {
      "text/plain": [
       "['Her',\n",
       " 'cat',\n",
       " \"'s\",\n",
       " 'name',\n",
       " 'is',\n",
       " 'no',\n",
       " 'longer',\n",
       " 'Luna',\n",
       " ',',\n",
       " 'it',\n",
       " 'is',\n",
       " 'potato',\n",
       " 'face']"
      ]
     },
     "execution_count": 194,
     "metadata": {},
     "output_type": "execute_result"
    }
   ],
   "source": [
    "sentence_2 = \"Her cat's name is no longer Luna, it is potato face\"\n",
    "word_tokenize(sentence_2)"
   ]
  },
  {
   "cell_type": "code",
   "execution_count": 1,
   "id": "82ca4083-5031-4132-84ea-388a98b10edf",
   "metadata": {},
   "outputs": [],
   "source": [
    "# one way to standardize text is Stemming\n",
    "\n",
    "from nltk.stem import PorterStemmer\n",
    "\n"
   ]
  },
  {
   "cell_type": "code",
   "execution_count": 2,
   "id": "653563bd-7762-4254-9985-6d32c33c9a59",
   "metadata": {},
   "outputs": [],
   "source": [
    "ps = PorterStemmer()\n"
   ]
  },
  {
   "cell_type": "code",
   "execution_count": 3,
   "id": "f05ca33c-f940-46c6-b881-7f2c4f9cbf12",
   "metadata": {},
   "outputs": [],
   "source": [
    "connect_tokens = ['connecting', 'connected', 'connectivity', 'connect', 'connects']"
   ]
  },
  {
   "cell_type": "code",
   "execution_count": 4,
   "id": "20b7d894-5e33-4abf-8461-a1d8efbb0845",
   "metadata": {},
   "outputs": [
    {
     "name": "stdout",
     "output_type": "stream",
     "text": [
      "connecting :  connect\n",
      "connected :  connect\n",
      "connectivity :  connect\n",
      "connect :  connect\n",
      "connects :  connect\n"
     ]
    }
   ],
   "source": [
    "for t in connect_tokens:\n",
    "    print(t, \": \", ps.stem(t))"
   ]
  },
  {
   "cell_type": "code",
   "execution_count": 5,
   "id": "f4bd9146-5c58-466c-872f-71d4d25c16c5",
   "metadata": {},
   "outputs": [],
   "source": [
    "learn_tokens = ['learned', 'learning', 'learn', 'learns', 'learner', 'learners']"
   ]
  },
  {
   "cell_type": "code",
   "execution_count": 6,
   "id": "10c50518-60a2-4953-b891-d79aa265eed7",
   "metadata": {},
   "outputs": [
    {
     "name": "stdout",
     "output_type": "stream",
     "text": [
      "learned :  learn\n",
      "learning :  learn\n",
      "learn :  learn\n",
      "learns :  learn\n",
      "learner :  learner\n",
      "learners :  learner\n"
     ]
    }
   ],
   "source": [
    "for t in learn_tokens:\n",
    "    print(t, \": \", ps.stem(t))"
   ]
  },
  {
   "cell_type": "code",
   "execution_count": 7,
   "id": "ab83b9e2-8ba5-4986-a3b1-f7ede30f39dd",
   "metadata": {},
   "outputs": [],
   "source": [
    "likes_tokens = ['likes', 'better', 'worse']"
   ]
  },
  {
   "cell_type": "code",
   "execution_count": 8,
   "id": "81e37ee3-d2be-4764-89b7-36ca2ec8d2eb",
   "metadata": {},
   "outputs": [
    {
     "name": "stdout",
     "output_type": "stream",
     "text": [
      "likes :  like\n",
      "better :  better\n",
      "worse :  wors\n"
     ]
    }
   ],
   "source": [
    "for t in likes_tokens:\n",
    "    print(t, \": \", ps.stem(t))"
   ]
  },
  {
   "cell_type": "code",
   "execution_count": 11,
   "id": "67c7dde5-232c-4dd7-b22d-d2a8e70d0473",
   "metadata": {},
   "outputs": [
    {
     "name": "stderr",
     "output_type": "stream",
     "text": [
      "[nltk_data] Downloading package wordnet to /Users/moe/nltk_data...\n"
     ]
    }
   ],
   "source": [
    "# Lemmatization\n",
    "import nltk\n",
    "nltk.download('wordnet')\n",
    "from nltk.stem import WordNetLemmatizer"
   ]
  },
  {
   "cell_type": "code",
   "execution_count": 14,
   "id": "95160274-b36e-4d16-959d-f7ae1d664392",
   "metadata": {},
   "outputs": [
    {
     "name": "stdout",
     "output_type": "stream",
     "text": [
      "likes :  like\n",
      "better :  better\n",
      "worse :  worse\n"
     ]
    }
   ],
   "source": [
    "lemmatizer = WordNetLemmatizer()\n",
    "\n",
    "for t in likes_tokens:\n",
    "    print(t, \": \", lemmatizer.lemmatize(t))"
   ]
  },
  {
   "cell_type": "code",
   "execution_count": 15,
   "id": "261aa59e-6111-47df-8d92-29f8b8a93901",
   "metadata": {},
   "outputs": [
    {
     "name": "stdout",
     "output_type": "stream",
     "text": [
      "learned :  learned\n",
      "learning :  learning\n",
      "learn :  learn\n",
      "learns :  learns\n",
      "learner :  learner\n",
      "learners :  learner\n"
     ]
    }
   ],
   "source": [
    "for t in learn_tokens:\n",
    "    print(t, \": \", lemmatizer.lemmatize(t))"
   ]
  },
  {
   "cell_type": "code",
   "execution_count": 17,
   "id": "92f2c7fc-7c12-4960-843c-6eeb322b27d1",
   "metadata": {},
   "outputs": [
    {
     "ename": "ModuleNotFoundError",
     "evalue": "No module named 'pandas'",
     "output_type": "error",
     "traceback": [
      "\u001b[31m---------------------------------------------------------------------------\u001b[39m",
      "\u001b[31mModuleNotFoundError\u001b[39m                       Traceback (most recent call last)",
      "\u001b[36mCell\u001b[39m\u001b[36m \u001b[39m\u001b[32mIn[17]\u001b[39m\u001b[32m, line 4\u001b[39m\n\u001b[32m      1\u001b[39m \u001b[38;5;66;03m# N-Grams\u001b[39;00m\n\u001b[32m      3\u001b[39m \u001b[38;5;28;01mimport\u001b[39;00m\u001b[38;5;250m \u001b[39m\u001b[34;01mnltk\u001b[39;00m\n\u001b[32m----> \u001b[39m\u001b[32m4\u001b[39m \u001b[38;5;28;01mimport\u001b[39;00m\u001b[38;5;250m \u001b[39m\u001b[34;01mpandas\u001b[39;00m\u001b[38;5;250m \u001b[39m\u001b[38;5;28;01mas\u001b[39;00m\u001b[38;5;250m \u001b[39m\u001b[34;01mpd\u001b[39;00m\n\u001b[32m      5\u001b[39m \u001b[38;5;28;01mimport\u001b[39;00m\u001b[38;5;250m \u001b[39m\u001b[34;01mmatplotlib\u001b[39;00m\u001b[34;01m.\u001b[39;00m\u001b[34;01mpyplot\u001b[39;00m\u001b[38;5;250m \u001b[39m\u001b[38;5;28;01mas\u001b[39;00m\u001b[38;5;250m \u001b[39m\u001b[34;01mplt\u001b[39;00m\n",
      "\u001b[31mModuleNotFoundError\u001b[39m: No module named 'pandas'"
     ]
    }
   ],
   "source": [
    "# N-Grams\n",
    "\n",
    "import nltk\n",
    "import pandas as pd\n",
    "import matplotlib.pyplot as plt"
   ]
  },
  {
   "cell_type": "code",
   "execution_count": 18,
   "id": "e8a6cc30-2aac-4d66-a9e8-32144f4f0ae9",
   "metadata": {},
   "outputs": [
    {
     "ename": "SyntaxError",
     "evalue": "invalid syntax (1048225456.py, line 1)",
     "output_type": "error",
     "traceback": [
      "  \u001b[36mCell\u001b[39m\u001b[36m \u001b[39m\u001b[32mIn[18]\u001b[39m\u001b[32m, line 1\u001b[39m\n\u001b[31m    \u001b[39m\u001b[31mpip install pandas\u001b[39m\n        ^\n\u001b[31mSyntaxError\u001b[39m\u001b[31m:\u001b[39m invalid syntax\n"
     ]
    }
   ],
   "source": [
    "pip install pandas\n",
    "\n"
   ]
  },
  {
   "cell_type": "code",
   "execution_count": 19,
   "id": "ca2a1a43-88cf-420b-be3a-f1cac9403eaf",
   "metadata": {},
   "outputs": [
    {
     "name": "stdout",
     "output_type": "stream",
     "text": [
      "Collecting pandas\n",
      "  Downloading pandas-2.3.1-cp313-cp313-macosx_10_13_x86_64.whl.metadata (91 kB)\n",
      "Collecting numpy>=1.26.0 (from pandas)\n",
      "  Downloading numpy-2.3.1-cp313-cp313-macosx_14_0_x86_64.whl.metadata (62 kB)\n",
      "Requirement already satisfied: python-dateutil>=2.8.2 in /Users/moe/miniconda3/lib/python3.13/site-packages (from pandas) (2.9.0.post0)\n",
      "Collecting pytz>=2020.1 (from pandas)\n",
      "  Downloading pytz-2025.2-py2.py3-none-any.whl.metadata (22 kB)\n",
      "Collecting tzdata>=2022.7 (from pandas)\n",
      "  Downloading tzdata-2025.2-py2.py3-none-any.whl.metadata (1.4 kB)\n",
      "Requirement already satisfied: six>=1.5 in /Users/moe/miniconda3/lib/python3.13/site-packages (from python-dateutil>=2.8.2->pandas) (1.17.0)\n",
      "Downloading pandas-2.3.1-cp313-cp313-macosx_10_13_x86_64.whl (11.5 MB)\n",
      "\u001b[2K   \u001b[90m━━━━━━━━━━━━━━━━━━━━━━━━━━━━━━━━━━━━━━━━\u001b[0m \u001b[32m11.5/11.5 MB\u001b[0m \u001b[31m5.1 MB/s\u001b[0m eta \u001b[36m0:00:00\u001b[0ma \u001b[36m0:00:01\u001b[0m\n",
      "Downloading numpy-2.3.1-cp313-cp313-macosx_14_0_x86_64.whl (6.6 MB)\n",
      "\u001b[2K   \u001b[90m━━━━━━━━━━━━━━━━━━━━━━━━━━━━━━━━━━━━━━━━\u001b[0m \u001b[32m6.6/6.6 MB\u001b[0m \u001b[31m9.5 MB/s\u001b[0m eta \u001b[36m0:00:00\u001b[0ma \u001b[36m0:00:01\u001b[0mm\n",
      "Downloading pytz-2025.2-py2.py3-none-any.whl (509 kB)\n",
      "Downloading tzdata-2025.2-py2.py3-none-any.whl (347 kB)\n",
      "Installing collected packages: pytz, tzdata, numpy, pandas\n",
      "\u001b[2K   \u001b[90m━━━━━━━━━━━━━━━━━━━━━━━━━━━━━━━━━━━━━━━━\u001b[0m \u001b[32m4/4\u001b[0m [pandas]2m3/4\u001b[0m [pandas]\n",
      "Successfully installed numpy-2.3.1 pandas-2.3.1 pytz-2025.2 tzdata-2025.2\n"
     ]
    }
   ],
   "source": [
    "!pip install pandas\n"
   ]
  },
  {
   "cell_type": "code",
   "execution_count": 20,
   "id": "2e6d1904-f4e7-48a3-bd2a-6cd4b3ac641e",
   "metadata": {},
   "outputs": [
    {
     "ename": "ModuleNotFoundError",
     "evalue": "No module named 'matplotlib'",
     "output_type": "error",
     "traceback": [
      "\u001b[31m---------------------------------------------------------------------------\u001b[39m",
      "\u001b[31mModuleNotFoundError\u001b[39m                       Traceback (most recent call last)",
      "\u001b[36mCell\u001b[39m\u001b[36m \u001b[39m\u001b[32mIn[20]\u001b[39m\u001b[32m, line 5\u001b[39m\n\u001b[32m      3\u001b[39m \u001b[38;5;28;01mimport\u001b[39;00m\u001b[38;5;250m \u001b[39m\u001b[34;01mnltk\u001b[39;00m\n\u001b[32m      4\u001b[39m \u001b[38;5;28;01mimport\u001b[39;00m\u001b[38;5;250m \u001b[39m\u001b[34;01mpandas\u001b[39;00m\u001b[38;5;250m \u001b[39m\u001b[38;5;28;01mas\u001b[39;00m\u001b[38;5;250m \u001b[39m\u001b[34;01mpd\u001b[39;00m\n\u001b[32m----> \u001b[39m\u001b[32m5\u001b[39m \u001b[38;5;28;01mimport\u001b[39;00m\u001b[38;5;250m \u001b[39m\u001b[34;01mmatplotlib\u001b[39;00m\u001b[34;01m.\u001b[39;00m\u001b[34;01mpyplot\u001b[39;00m\u001b[38;5;250m \u001b[39m\u001b[38;5;28;01mas\u001b[39;00m\u001b[38;5;250m \u001b[39m\u001b[34;01mplt\u001b[39;00m\n",
      "\u001b[31mModuleNotFoundError\u001b[39m: No module named 'matplotlib'"
     ]
    }
   ],
   "source": [
    "# N-Grams\n",
    "\n",
    "import nltk\n",
    "import pandas as pd\n",
    "import matplotlib.pyplot as plt"
   ]
  },
  {
   "cell_type": "code",
   "execution_count": null,
   "id": "f186b2e2-53b4-4777-b9d4-96abffc46f26",
   "metadata": {},
   "outputs": [],
   "source": [
    "tokens = ['the', 'rise', 'of', 'artificial', 'intelligence', 'has', 'led', 'to', 'significant', 'advancements', 'in', 'natural', 'language', 'processing', 'computer', 'vision', 'and', 'other', 'fields', 'machine', 'learning', 'algorithms', 'are', 'becoming', 'more', 'sophisticated', 'enabling', 'computers', 'to', 'perform', 'complex', 'tasks', 'that', 'were', 'once', 'thought', 'to', 'be', 'the', 'exclusive', 'domain', 'of', 'humans', 'with', 'the', 'advent', 'of', 'deep', 'learning', 'neural', 'networks', 'have', 'become', 'even', 'more', 'powerful', 'capable', 'of', 'processing', 'vast', 'amounts', 'of', 'data', 'and', 'learning', 'from', 'it', 'in', 'ways', 'that', 'were', 'not', 'possible', 'before', 'as', 'a', 'result', 'ai', 'is', 'increasingly', 'being', 'used', 'in', 'a', 'wide', 'range', 'of', 'industries', 'from', 'healthcare', 'to', 'finance', 'to', 'transportation', 'and', 'its', 'impact', 'is', 'only', 'set', 'to', 'grow', 'in', 'the', 'years', 'to', 'come']\n",
    "print(tokens)"
   ]
  },
  {
   "cell_type": "code",
   "execution_count": 21,
   "id": "edb4ff2e-ae9f-4217-806a-d0264a628746",
   "metadata": {},
   "outputs": [
    {
     "name": "stdout",
     "output_type": "stream",
     "text": [
      "Collecting matplotlib\n",
      "  Downloading matplotlib-3.10.3-cp313-cp313-macosx_10_13_x86_64.whl.metadata (11 kB)\n",
      "Collecting contourpy>=1.0.1 (from matplotlib)\n",
      "  Downloading contourpy-1.3.2-cp313-cp313-macosx_10_13_x86_64.whl.metadata (5.5 kB)\n",
      "Collecting cycler>=0.10 (from matplotlib)\n",
      "  Downloading cycler-0.12.1-py3-none-any.whl.metadata (3.8 kB)\n",
      "Collecting fonttools>=4.22.0 (from matplotlib)\n",
      "  Downloading fonttools-4.58.5-cp313-cp313-macosx_10_13_x86_64.whl.metadata (106 kB)\n",
      "Collecting kiwisolver>=1.3.1 (from matplotlib)\n",
      "  Downloading kiwisolver-1.4.8-cp313-cp313-macosx_10_13_x86_64.whl.metadata (6.2 kB)\n",
      "Requirement already satisfied: numpy>=1.23 in /Users/moe/miniconda3/lib/python3.13/site-packages (from matplotlib) (2.3.1)\n",
      "Requirement already satisfied: packaging>=20.0 in /Users/moe/miniconda3/lib/python3.13/site-packages (from matplotlib) (24.2)\n",
      "Collecting pillow>=8 (from matplotlib)\n",
      "  Downloading pillow-11.3.0-cp313-cp313-macosx_10_13_x86_64.whl.metadata (9.0 kB)\n",
      "Collecting pyparsing>=2.3.1 (from matplotlib)\n",
      "  Downloading pyparsing-3.2.3-py3-none-any.whl.metadata (5.0 kB)\n",
      "Requirement already satisfied: python-dateutil>=2.7 in /Users/moe/miniconda3/lib/python3.13/site-packages (from matplotlib) (2.9.0.post0)\n",
      "Requirement already satisfied: six>=1.5 in /Users/moe/miniconda3/lib/python3.13/site-packages (from python-dateutil>=2.7->matplotlib) (1.17.0)\n",
      "Downloading matplotlib-3.10.3-cp313-cp313-macosx_10_13_x86_64.whl (8.2 MB)\n",
      "\u001b[2K   \u001b[90m━━━━━━━━━━━━━━━━━━━━━━━━━━━━━━━━━━━━━━━━\u001b[0m \u001b[32m8.2/8.2 MB\u001b[0m \u001b[31m8.0 MB/s\u001b[0m eta \u001b[36m0:00:00\u001b[0mta \u001b[36m0:00:01\u001b[0m\n",
      "\u001b[?25hDownloading contourpy-1.3.2-cp313-cp313-macosx_10_13_x86_64.whl (271 kB)\n",
      "Downloading cycler-0.12.1-py3-none-any.whl (8.3 kB)\n",
      "Downloading fonttools-4.58.5-cp313-cp313-macosx_10_13_x86_64.whl (2.3 MB)\n",
      "\u001b[2K   \u001b[90m━━━━━━━━━━━━━━━━━━━━━━━━━━━━━━━━━━━━━━━━\u001b[0m \u001b[32m2.3/2.3 MB\u001b[0m \u001b[31m3.0 MB/s\u001b[0m eta \u001b[36m0:00:00\u001b[0ma \u001b[36m0:00:01\u001b[0m\n",
      "Downloading kiwisolver-1.4.8-cp313-cp313-macosx_10_13_x86_64.whl (66 kB)\n",
      "Downloading pillow-11.3.0-cp313-cp313-macosx_10_13_x86_64.whl (5.3 MB)\n",
      "\u001b[2K   \u001b[90m━━━━━━━━━━━━━━━━━━━━━━━━━━━━━━━━━━━━━━━━\u001b[0m \u001b[32m5.3/5.3 MB\u001b[0m \u001b[31m4.4 MB/s\u001b[0m eta \u001b[36m0:00:00\u001b[0ma \u001b[36m0:00:01\u001b[0m\n",
      "Downloading pyparsing-3.2.3-py3-none-any.whl (111 kB)\n",
      "Installing collected packages: pyparsing, pillow, kiwisolver, fonttools, cycler, contourpy, matplotlib\n",
      "\u001b[2K   \u001b[90m━━━━━━━━━━━━━━━━━━━━━━━━━━━━━━━━━━━━━━━━\u001b[0m \u001b[32m7/7\u001b[0m [matplotlib]7\u001b[0m [matplotlib]\n",
      "\u001b[1A\u001b[2KSuccessfully installed contourpy-1.3.2 cycler-0.12.1 fonttools-4.58.5 kiwisolver-1.4.8 matplotlib-3.10.3 pillow-11.3.0 pyparsing-3.2.3\n"
     ]
    }
   ],
   "source": [
    "!pip install matplotlib\n"
   ]
  },
  {
   "cell_type": "code",
   "execution_count": 22,
   "id": "c5069c84-dc4a-4aa0-a459-4a68231d6e36",
   "metadata": {},
   "outputs": [],
   "source": [
    "# N-Grams\n",
    "\n",
    "import nltk\n",
    "import pandas as pd\n",
    "import matplotlib.pyplot as plt"
   ]
  },
  {
   "cell_type": "code",
   "execution_count": 23,
   "id": "feea96ca-9190-4d8c-aa6c-eba044e19393",
   "metadata": {},
   "outputs": [
    {
     "name": "stdout",
     "output_type": "stream",
     "text": [
      "['the', 'rise', 'of', 'artificial', 'intelligence', 'has', 'led', 'to', 'significant', 'advancements', 'in', 'natural', 'language', 'processing', 'computer', 'vision', 'and', 'other', 'fields', 'machine', 'learning', 'algorithms', 'are', 'becoming', 'more', 'sophisticated', 'enabling', 'computers', 'to', 'perform', 'complex', 'tasks', 'that', 'were', 'once', 'thought', 'to', 'be', 'the', 'exclusive', 'domain', 'of', 'humans', 'with', 'the', 'advent', 'of', 'deep', 'learning', 'neural', 'networks', 'have', 'become', 'even', 'more', 'powerful', 'capable', 'of', 'processing', 'vast', 'amounts', 'of', 'data', 'and', 'learning', 'from', 'it', 'in', 'ways', 'that', 'were', 'not', 'possible', 'before', 'as', 'a', 'result', 'ai', 'is', 'increasingly', 'being', 'used', 'in', 'a', 'wide', 'range', 'of', 'industries', 'from', 'healthcare', 'to', 'finance', 'to', 'transportation', 'and', 'its', 'impact', 'is', 'only', 'set', 'to', 'grow', 'in', 'the', 'years', 'to', 'come']\n"
     ]
    }
   ],
   "source": [
    "tokens = ['the', 'rise', 'of', 'artificial', 'intelligence', 'has', 'led', 'to', 'significant', 'advancements', 'in', 'natural', 'language', 'processing', 'computer', 'vision', 'and', 'other', 'fields', 'machine', 'learning', 'algorithms', 'are', 'becoming', 'more', 'sophisticated', 'enabling', 'computers', 'to', 'perform', 'complex', 'tasks', 'that', 'were', 'once', 'thought', 'to', 'be', 'the', 'exclusive', 'domain', 'of', 'humans', 'with', 'the', 'advent', 'of', 'deep', 'learning', 'neural', 'networks', 'have', 'become', 'even', 'more', 'powerful', 'capable', 'of', 'processing', 'vast', 'amounts', 'of', 'data', 'and', 'learning', 'from', 'it', 'in', 'ways', 'that', 'were', 'not', 'possible', 'before', 'as', 'a', 'result', 'ai', 'is', 'increasingly', 'being', 'used', 'in', 'a', 'wide', 'range', 'of', 'industries', 'from', 'healthcare', 'to', 'finance', 'to', 'transportation', 'and', 'its', 'impact', 'is', 'only', 'set', 'to', 'grow', 'in', 'the', 'years', 'to', 'come']\n",
    "print(tokens)"
   ]
  },
  {
   "cell_type": "code",
   "execution_count": 24,
   "id": "2a019747-c91d-4eb9-a2be-5ec510ed9e02",
   "metadata": {},
   "outputs": [
    {
     "name": "stdout",
     "output_type": "stream",
     "text": [
      "(to,)       7\n",
      "(of,)       6\n",
      "(the,)      4\n",
      "(in,)       4\n",
      "(and,)      3\n",
      "           ..\n",
      "(only,)     1\n",
      "(set,)      1\n",
      "(grow,)     1\n",
      "(years,)    1\n",
      "(come,)     1\n",
      "Name: count, Length: 79, dtype: int64\n"
     ]
    }
   ],
   "source": [
    "unigrams = (pd.Series(nltk.ngrams(tokens, 1))).value_counts()\n",
    "print(unigrams)"
   ]
  },
  {
   "cell_type": "code",
   "execution_count": 29,
   "id": "a3109cca-3f5e-4075-b0ce-54780f9bb40b",
   "metadata": {},
   "outputs": [
    {
     "name": "stdout",
     "output_type": "stream",
     "text": [
      "(to,)            7\n",
      "(of,)            6\n",
      "(the,)           4\n",
      "(in,)            4\n",
      "(and,)           3\n",
      "(learning,)      3\n",
      "(processing,)    2\n",
      "(from,)          2\n",
      "(is,)            2\n",
      "(a,)             2\n",
      "Name: count, dtype: int64\n"
     ]
    }
   ],
   "source": [
    "# to get top 10 words unigram\n",
    "\n",
    "unigrams = (pd.Series(nltk.ngrams(tokens, 1))).value_counts() # note tokens, 1 for unigram\n",
    "print(unigrams[:10])"
   ]
  },
  {
   "cell_type": "code",
   "execution_count": 28,
   "id": "0f557682-d449-497d-bbb0-b54e1d3fd9c5",
   "metadata": {},
   "outputs": [
    {
     "data": {
      "text/plain": [
       "Text(0.5, 1.0, '10 Most Frequently Occuring Unigrams')"
      ]
     },
     "execution_count": 28,
     "metadata": {},
     "output_type": "execute_result"
    },
    {
     "data": {
      "image/png": "[encoded data removed]",
      "text/plain": [
       "<Figure size 1200x800 with 1 Axes>"
      ]
     },
     "metadata": {},
     "output_type": "display_data"
    }
   ],
   "source": [
    "unigrams[:10].sort_values().plot.barh(color='lightsalmon', width=.9, figsize=(12,8))\n",
    "plt.title(\"10 Most Frequently Occuring Unigrams\")"
   ]
  },
  {
   "cell_type": "code",
   "execution_count": 30,
   "id": "576552aa-b7d9-4c64-9e4e-471966216d12",
   "metadata": {},
   "outputs": [
    {
     "name": "stdout",
     "output_type": "stream",
     "text": [
      "(that, were)                   2\n",
      "(rise, of)                     1\n",
      "(of, artificial)               1\n",
      "(artificial, intelligence)     1\n",
      "(intelligence, has)            1\n",
      "(has, led)                     1\n",
      "(led, to)                      1\n",
      "(to, significant)              1\n",
      "(the, rise)                    1\n",
      "(significant, advancements)    1\n",
      "Name: count, dtype: int64\n"
     ]
    }
   ],
   "source": [
    "# to get top 10 words bigram\n",
    "\n",
    "unigrams = (pd.Series(nltk.ngrams(tokens, 2))).value_counts() # note, tokens, 2 for bigram\n",
    "print(unigrams[:10])"
   ]
  },
  {
   "cell_type": "code",
   "execution_count": 31,
   "id": "e1059fb8-0da8-4be4-9633-cc2a965a6a56",
   "metadata": {},
   "outputs": [],
   "source": [
    "news_report = \"\"\"Violent clashes erupted between far-right groups, local residents and North African migrants in a town in southeastern Spain late on Saturday following an attack on an elderly man by unknown assailants earlier in the week.\n",
    "\n",
    "Five people were hurt and one was arrested during the unrest in Torre-Pacheco, local officials told Reuters, in one of the worst such episodes in the country in recent decades. The town was quieter on Sunday, but government sources said more arrests were expected.\n",
    "\n",
    "Videos posted on social media showed men dressed in clothes bearing far-right symbols and migrants carrying Moroccan flags hurling objects at each other in Saturday night’s violence, which followed several days of lower intensity unrest.\n",
    "\n",
    "Tensions flared up between local residents and migrants after the elderly man was attacked in the street on Wednesday, causing injuries from which he is recovering at home. The reasons behind the assault are unclear and no one has been arrested.\n",
    "\n",
    "The central government’s representative in the area, Mariola Guevara, told Spanish public TV the attack was being investigated.\n",
    "\n",
    "She also denounced “hate speech” and “incitement to violence,” as far-right groups moved into the town, and said additional Guardia Civil officers would be deployed to deal with the violence.\n",
    "\n",
    "Nearly a third of Torre-Pacheco’s population is of foreign origin, according to local government data.\"\"\""
   ]
  },
  {
   "cell_type": "code",
   "execution_count": 32,
   "id": "9ffc8ae3-097f-4948-91a7-46c8135aaee9",
   "metadata": {},
   "outputs": [
    {
     "name": "stdout",
     "output_type": "stream",
     "text": [
      "Violent clashes erupted between far-right groups, local residents and North African migrants in a town in southeastern Spain late on Saturday following an attack on an elderly man by unknown assailants earlier in the week.\n",
      "\n",
      "Five people were hurt and one was arrested during the unrest in Torre-Pacheco, local officials told Reuters, in one of the worst such episodes in the country in recent decades. The town was quieter on Sunday, but government sources said more arrests were expected.\n",
      "\n",
      "Videos posted on social media showed men dressed in clothes bearing far-right symbols and migrants carrying Moroccan flags hurling objects at each other in Saturday night’s violence, which followed several days of lower intensity unrest.\n",
      "\n",
      "Tensions flared up between local residents and migrants after the elderly man was attacked in the street on Wednesday, causing injuries from which he is recovering at home. The reasons behind the assault are unclear and no one has been arrested.\n",
      "\n",
      "The central government’s representative in the area, Mariola Guevara, told Spanish public TV the attack was being investigated.\n",
      "\n",
      "She also denounced “hate speech” and “incitement to violence,” as far-right groups moved into the town, and said additional Guardia Civil officers would be deployed to deal with the violence.\n",
      "\n",
      "Nearly a third of Torre-Pacheco’s population is of foreign origin, according to local government data.\n"
     ]
    }
   ],
   "source": [
    "print(news_report)"
   ]
  },
  {
   "cell_type": "code",
   "execution_count": 33,
   "id": "5e5176f7-71cb-4ff8-98e4-f9c3e59b592a",
   "metadata": {},
   "outputs": [
    {
     "name": "stderr",
     "output_type": "stream",
     "text": [
      "[nltk_data] Downloading package punkt_tab to /Users/moe/nltk_data...\n",
      "[nltk_data]   Package punkt_tab is already up-to-date!\n"
     ]
    }
   ],
   "source": [
    "nltk.download('punkt_tab')\n",
    "from nltk.tokenize import word_tokenize, sent_tokenize"
   ]
  },
  {
   "cell_type": "code",
   "execution_count": 34,
   "id": "a2ff5464-8951-412b-b8e5-057c99933481",
   "metadata": {},
   "outputs": [],
   "source": [
    "tokenized_news_report = word_tokenize(news_report)"
   ]
  },
  {
   "cell_type": "code",
   "execution_count": 35,
   "id": "24171cf5-3819-448c-9e9c-0db2356bb613",
   "metadata": {},
   "outputs": [
    {
     "name": "stdout",
     "output_type": "stream",
     "text": [
      "['Violent', 'clashes', 'erupted', 'between', 'far-right', 'groups', ',', 'local', 'residents', 'and', 'North', 'African', 'migrants', 'in', 'a', 'town', 'in', 'southeastern', 'Spain', 'late', 'on', 'Saturday', 'following', 'an', 'attack', 'on', 'an', 'elderly', 'man', 'by', 'unknown', 'assailants', 'earlier', 'in', 'the', 'week', '.', 'Five', 'people', 'were', 'hurt', 'and', 'one', 'was', 'arrested', 'during', 'the', 'unrest', 'in', 'Torre-Pacheco', ',', 'local', 'officials', 'told', 'Reuters', ',', 'in', 'one', 'of', 'the', 'worst', 'such', 'episodes', 'in', 'the', 'country', 'in', 'recent', 'decades', '.', 'The', 'town', 'was', 'quieter', 'on', 'Sunday', ',', 'but', 'government', 'sources', 'said', 'more', 'arrests', 'were', 'expected', '.', 'Videos', 'posted', 'on', 'social', 'media', 'showed', 'men', 'dressed', 'in', 'clothes', 'bearing', 'far-right', 'symbols', 'and', 'migrants', 'carrying', 'Moroccan', 'flags', 'hurling', 'objects', 'at', 'each', 'other', 'in', 'Saturday', 'night', '’', 's', 'violence', ',', 'which', 'followed', 'several', 'days', 'of', 'lower', 'intensity', 'unrest', '.', 'Tensions', 'flared', 'up', 'between', 'local', 'residents', 'and', 'migrants', 'after', 'the', 'elderly', 'man', 'was', 'attacked', 'in', 'the', 'street', 'on', 'Wednesday', ',', 'causing', 'injuries', 'from', 'which', 'he', 'is', 'recovering', 'at', 'home', '.', 'The', 'reasons', 'behind', 'the', 'assault', 'are', 'unclear', 'and', 'no', 'one', 'has', 'been', 'arrested', '.', 'The', 'central', 'government', '’', 's', 'representative', 'in', 'the', 'area', ',', 'Mariola', 'Guevara', ',', 'told', 'Spanish', 'public', 'TV', 'the', 'attack', 'was', 'being', 'investigated', '.', 'She', 'also', 'denounced', '“', 'hate', 'speech', '”', 'and', '“', 'incitement', 'to', 'violence', ',', '”', 'as', 'far-right', 'groups', 'moved', 'into', 'the', 'town', ',', 'and', 'said', 'additional', 'Guardia', 'Civil', 'officers', 'would', 'be', 'deployed', 'to', 'deal', 'with', 'the', 'violence', '.', 'Nearly', 'a', 'third', 'of', 'Torre-Pacheco', '’', 's', 'population', 'is', 'of', 'foreign', 'origin', ',', 'according', 'to', 'local', 'government', 'data', '.']\n"
     ]
    }
   ],
   "source": [
    "print(tokenized_news_report)"
   ]
  },
  {
   "cell_type": "code",
   "execution_count": 38,
   "id": "3cf08841-d42c-4700-bee3-d95ab842c970",
   "metadata": {},
   "outputs": [
    {
     "name": "stdout",
     "output_type": "stream",
     "text": [
      "(in,)            11\n",
      "(the,)           11\n",
      "(and,)            7\n",
      "(on,)             5\n",
      "(was,)            4\n",
      "(of,)             4\n",
      "(local,)          4\n",
      "(migrants,)       3\n",
      "(The,)            3\n",
      "(government,)     3\n",
      "Name: count, dtype: int64\n"
     ]
    }
   ],
   "source": [
    "import string\n",
    "\n",
    "filtered_tokens = [token for token in tokenized_news_report if token.isalpha()] # filtering token to remove things like ('') or (',)\n",
    "unigrams = (pd.Series(nltk.ngrams(filtered_tokens, 1))).value_counts() # note tokens, 1 for unigram\n",
    "print(unigrams[:10])"
   ]
  },
  {
   "cell_type": "code",
   "execution_count": 39,
   "id": "55aaff3f-6245-47e6-ac0d-19e9ff7ea1ff",
   "metadata": {},
   "outputs": [
    {
     "data": {
      "text/plain": [
       "Text(0.5, 1.0, '10 Most Frequently Occuring Unigrams In News Report')"
      ]
     },
     "execution_count": 39,
     "metadata": {},
     "output_type": "execute_result"
    },
    {
     "data": {
      "image/png": "[encoded data removed]",
      "text/plain": [
       "<Figure size 1200x800 with 1 Axes>"
      ]
     },
     "metadata": {},
     "output_type": "display_data"
    }
   ],
   "source": [
    "unigrams[:10].sort_values().plot.barh(color='lightsalmon', width=.9, figsize=(12,8))\n",
    "plt.title(\"10 Most Frequently Occuring Unigrams In News Report\")"
   ]
  },
  {
   "cell_type": "code",
   "execution_count": null,
   "id": "4dd43d81-38be-400a-9c61-3f6bf4c3e0ee",
   "metadata": {},
   "outputs": [],
   "source": []
  }
 ],
 "metadata": {
  "kernelspec": {
   "display_name": "Python 3 (ipykernel)",
   "language": "python",
   "name": "python3"
  },
  "language_info": {
   "codemirror_mode": {
    "name": "ipython",
    "version": 3
   },
   "file_extension": ".py",
   "mimetype": "text/x-python",
   "name": "python",
   "nbconvert_exporter": "python",
   "pygments_lexer": "ipython3",
   "version": "3.13.5"
  }
 },
 "nbformat": 4,
 "nbformat_minor": 5
}
