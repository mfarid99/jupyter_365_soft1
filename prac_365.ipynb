{
 "cells": [
  {
   "cell_type": "code",
   "execution_count": 1,
   "id": "0c1fe560-5232-4f48-a969-cb0a3ae9bc67",
   "metadata": {},
   "outputs": [
    {
     "data": {
      "text/plain": [
       "2"
      ]
     },
     "execution_count": 1,
     "metadata": {},
     "output_type": "execute_result"
    }
   ],
   "source": [
    "1 + 1"
   ]
  },
  {
   "cell_type": "code",
   "execution_count": 2,
   "id": "027327df-be3b-4ebe-a057-82e1d9e02a46",
   "metadata": {},
   "outputs": [
    {
     "data": {
      "text/plain": [
       "3"
      ]
     },
     "execution_count": 2,
     "metadata": {},
     "output_type": "execute_result"
    }
   ],
   "source": [
    "1+ 2"
   ]
  },
  {
   "cell_type": "markdown",
   "id": "c6ee46d5-df3c-45ff-b1f0-369b5ea6bc12",
   "metadata": {},
   "source": [
    "This is a markdown"
   ]
  },
  {
   "cell_type": "code",
   "execution_count": 3,
   "id": "30215899-5191-4c6d-a732-b9d82603fbcf",
   "metadata": {},
   "outputs": [
    {
     "ename": "NameError",
     "evalue": "name 'This' is not defined",
     "output_type": "error",
     "traceback": [
      "\u001b[31m---------------------------------------------------------------------------\u001b[39m",
      "\u001b[31mNameError\u001b[39m                                 Traceback (most recent call last)",
      "\u001b[36mCell\u001b[39m\u001b[36m \u001b[39m\u001b[32mIn[3]\u001b[39m\u001b[32m, line 1\u001b[39m\n\u001b[32m----> \u001b[39m\u001b[32m1\u001b[39m This\n",
      "\u001b[31mNameError\u001b[39m: name 'This' is not defined"
     ]
    }
   ],
   "source": [
    "This"
   ]
  },
  {
   "cell_type": "code",
   "execution_count": 4,
   "id": "c45f8a8e-bd02-403c-9d30-bd73ec26131c",
   "metadata": {},
   "outputs": [],
   "source": [
    "a, b, c, d = (10, 20, 30, 40)"
   ]
  },
  {
   "cell_type": "code",
   "execution_count": 5,
   "id": "2f388e39-f863-4d8f-a86a-65e5f463f2f8",
   "metadata": {},
   "outputs": [
    {
     "data": {
      "text/plain": [
       "10"
      ]
     },
     "execution_count": 5,
     "metadata": {},
     "output_type": "execute_result"
    }
   ],
   "source": [
    "a\n"
   ]
  },
  {
   "cell_type": "code",
   "execution_count": 6,
   "id": "c2becb27-c0e8-4aa3-9181-480588fb90bd",
   "metadata": {},
   "outputs": [
    {
     "data": {
      "text/plain": [
       "40"
      ]
     },
     "execution_count": 6,
     "metadata": {},
     "output_type": "execute_result"
    }
   ],
   "source": [
    "d"
   ]
  },
  {
   "cell_type": "code",
   "execution_count": 7,
   "id": "151827c2-cce3-481a-baaf-f8393f1730bb",
   "metadata": {},
   "outputs": [
    {
     "data": {
      "text/plain": [
       "'/Users/moe'"
      ]
     },
     "execution_count": 7,
     "metadata": {},
     "output_type": "execute_result"
    }
   ],
   "source": [
    "import os\n",
    "os.getcwd()\n"
   ]
  },
  {
   "cell_type": "code",
   "execution_count": 1,
   "id": "47d46b91-db08-4555-b69e-8a12ab28ea66",
   "metadata": {},
   "outputs": [],
   "source": [
    "x, y, z, d = (90, 2, 30, 4)"
   ]
  },
  {
   "cell_type": "code",
   "execution_count": 2,
   "id": "d92a34dc-8c5e-4564-bd45-a80b214af26e",
   "metadata": {},
   "outputs": [
    {
     "data": {
      "text/plain": [
       "90"
      ]
     },
     "execution_count": 2,
     "metadata": {},
     "output_type": "execute_result"
    }
   ],
   "source": [
    "x"
   ]
  },
  {
   "cell_type": "code",
   "execution_count": 3,
   "id": "17b62215-987a-4626-a74f-51c38586dad7",
   "metadata": {},
   "outputs": [
    {
     "data": {
      "text/plain": [
       "4"
      ]
     },
     "execution_count": 3,
     "metadata": {},
     "output_type": "execute_result"
    }
   ],
   "source": [
    "d"
   ]
  },
  {
   "cell_type": "code",
   "execution_count": 4,
   "id": "7072e172-207c-4d23-8520-b60de8751425",
   "metadata": {},
   "outputs": [
    {
     "name": "stdout",
     "output_type": "stream",
     "text": [
      "<class 'int'>\n"
     ]
    }
   ],
   "source": [
    "x = 99\n",
    "print(type(x))"
   ]
  },
  {
   "cell_type": "code",
   "execution_count": 5,
   "id": "ecfeb7ae-372b-46bc-84e8-1f7efc48fb14",
   "metadata": {},
   "outputs": [],
   "source": [
    "y = 10.5"
   ]
  },
  {
   "cell_type": "code",
   "execution_count": 6,
   "id": "e304384c-34fe-4c74-8e28-432123474f19",
   "metadata": {},
   "outputs": [
    {
     "data": {
      "text/plain": [
       "float"
      ]
     },
     "execution_count": 6,
     "metadata": {},
     "output_type": "execute_result"
    }
   ],
   "source": [
    "type(y)"
   ]
  },
  {
   "cell_type": "code",
   "execution_count": 7,
   "id": "f2e536de-f558-45f8-9575-88597f0211b3",
   "metadata": {},
   "outputs": [
    {
     "data": {
      "text/plain": [
       "10"
      ]
     },
     "execution_count": 7,
     "metadata": {},
     "output_type": "execute_result"
    }
   ],
   "source": [
    "int(y)"
   ]
  },
  {
   "cell_type": "code",
   "execution_count": 8,
   "id": "ee094a9d-51ee-4162-abda-0026b6a66af2",
   "metadata": {},
   "outputs": [
    {
     "data": {
      "text/plain": [
       "True"
      ]
     },
     "execution_count": 8,
     "metadata": {},
     "output_type": "execute_result"
    }
   ],
   "source": [
    "z = True\n",
    "z"
   ]
  },
  {
   "cell_type": "code",
   "execution_count": 9,
   "id": "cd400074-01a8-46e0-8e2d-bc67edb4f77c",
   "metadata": {},
   "outputs": [
    {
     "data": {
      "text/plain": [
       "bool"
      ]
     },
     "execution_count": 9,
     "metadata": {},
     "output_type": "execute_result"
    }
   ],
   "source": [
    "type(z)"
   ]
  },
  {
   "cell_type": "code",
   "execution_count": 1,
   "id": "c1e40b1f-f012-4e92-bda0-8ae4dd350951",
   "metadata": {},
   "outputs": [
    {
     "data": {
      "text/plain": [
       "float"
      ]
     },
     "execution_count": 1,
     "metadata": {},
     "output_type": "execute_result"
    }
   ],
   "source": [
    "type(1 + 11.55)"
   ]
  },
  {
   "cell_type": "code",
   "execution_count": 2,
   "id": "94432a65-d90b-4007-888b-fbab6c566799",
   "metadata": {},
   "outputs": [
    {
     "data": {
      "text/plain": [
       "5.333333333333333"
      ]
     },
     "execution_count": 2,
     "metadata": {},
     "output_type": "execute_result"
    }
   ],
   "source": [
    "16 /3\n"
   ]
  },
  {
   "cell_type": "code",
   "execution_count": 3,
   "id": "bebea873-e386-4417-8ea9-3c88c30ac7ea",
   "metadata": {},
   "outputs": [
    {
     "data": {
      "text/plain": [
       "1"
      ]
     },
     "execution_count": 3,
     "metadata": {},
     "output_type": "execute_result"
    }
   ],
   "source": [
    "16 % 3\n"
   ]
  },
  {
   "cell_type": "code",
   "execution_count": 4,
   "id": "d0fac6f0-2cf4-4117-9062-09ed790fc82d",
   "metadata": {},
   "outputs": [
    {
     "data": {
      "text/plain": [
       "25"
      ]
     },
     "execution_count": 4,
     "metadata": {},
     "output_type": "execute_result"
    }
   ],
   "source": [
    "5 * 5"
   ]
  },
  {
   "cell_type": "code",
   "execution_count": 5,
   "id": "77f40521-c082-459b-9d82-dddb02433968",
   "metadata": {},
   "outputs": [
    {
     "data": {
      "text/plain": [
       "3125"
      ]
     },
     "execution_count": 5,
     "metadata": {},
     "output_type": "execute_result"
    }
   ],
   "source": [
    "5**5\n"
   ]
  },
  {
   "cell_type": "code",
   "execution_count": 6,
   "id": "6f600b90-b590-4dd0-aba6-ab60150daaaa",
   "metadata": {},
   "outputs": [
    {
     "data": {
      "text/plain": [
       "225"
      ]
     },
     "execution_count": 6,
     "metadata": {},
     "output_type": "execute_result"
    }
   ],
   "source": [
    "15 ** 2"
   ]
  },
  {
   "cell_type": "code",
   "execution_count": 7,
   "id": "904fb81e-3b32-4871-8075-b96ceff6bf44",
   "metadata": {},
   "outputs": [
    {
     "data": {
      "text/plain": [
       "625"
      ]
     },
     "execution_count": 7,
     "metadata": {},
     "output_type": "execute_result"
    }
   ],
   "source": [
    "25 ** 2\n"
   ]
  },
  {
   "cell_type": "code",
   "execution_count": 8,
   "id": "6c19abf6-39dd-4bbe-abe3-46973e27b9ef",
   "metadata": {},
   "outputs": [
    {
     "data": {
      "text/plain": [
       "86"
      ]
     },
     "execution_count": 8,
     "metadata": {},
     "output_type": "execute_result"
    }
   ],
   "source": [
    "15 + 71"
   ]
  },
  {
   "cell_type": "code",
   "execution_count": 10,
   "id": "a8c23b79-b733-4b7a-802e-9e1651e2472d",
   "metadata": {},
   "outputs": [
    {
     "data": {
      "text/plain": [
       "-67"
      ]
     },
     "execution_count": 10,
     "metadata": {},
     "output_type": "execute_result"
    }
   ],
   "source": [
    "15 + 17 \\\n",
    "- 99"
   ]
  },
  {
   "cell_type": "code",
   "execution_count": 13,
   "id": "3c0d60cb-7883-4773-949d-585d7906f83f",
   "metadata": {},
   "outputs": [
    {
     "data": {
      "text/plain": [
       "'d'"
      ]
     },
     "execution_count": 13,
     "metadata": {},
     "output_type": "execute_result"
    }
   ],
   "source": [
    "\"Monday\"[3]"
   ]
  },
  {
   "cell_type": "code",
   "execution_count": 14,
   "id": "ff319ccb-3359-4615-9c07-cb4ccc015e7b",
   "metadata": {},
   "outputs": [],
   "source": [
    "monday_ind = \"Monday\"[4]"
   ]
  },
  {
   "cell_type": "code",
   "execution_count": 15,
   "id": "0e803d9a-3aa0-4d38-b86d-d6825b2e3cd0",
   "metadata": {},
   "outputs": [
    {
     "data": {
      "text/plain": [
       "'a'"
      ]
     },
     "execution_count": 15,
     "metadata": {},
     "output_type": "execute_result"
    }
   ],
   "source": [
    "monday_ind\n"
   ]
  },
  {
   "cell_type": "code",
   "execution_count": 16,
   "id": "76eb9ff2-ad23-4055-8887-82d23e87d49d",
   "metadata": {},
   "outputs": [
    {
     "data": {
      "text/plain": [
       "'/Users/moe/jupyter_note_pract_soft'"
      ]
     },
     "execution_count": 16,
     "metadata": {},
     "output_type": "execute_result"
    }
   ],
   "source": [
    "import os\n",
    "os.getcwd()"
   ]
  },
  {
   "cell_type": "code",
   "execution_count": 17,
   "id": "03193570-7ac4-4ac7-8b35-1317d4243240",
   "metadata": {},
   "outputs": [],
   "source": [
    "def simple():\n",
    "    print(\"Hello Man!\")"
   ]
  },
  {
   "cell_type": "code",
   "execution_count": 18,
   "id": "d257a3c8-d613-4708-8b89-c44c07f9a908",
   "metadata": {},
   "outputs": [
    {
     "name": "stdout",
     "output_type": "stream",
     "text": [
      "Hello Man!\n"
     ]
    }
   ],
   "source": [
    "simple()"
   ]
  },
  {
   "cell_type": "code",
   "execution_count": 19,
   "id": "59620d71-4d3e-42b4-bdc0-f06ddbd7d6a7",
   "metadata": {},
   "outputs": [
    {
     "data": {
      "text/plain": [
       "17"
      ]
     },
     "execution_count": 19,
     "metadata": {},
     "output_type": "execute_result"
    }
   ],
   "source": [
    "def plus_ten(x):\n",
    "    return x + 10\n",
    "\n",
    "plus_ten(7)"
   ]
  },
  {
   "cell_type": "code",
   "execution_count": 22,
   "id": "bec0d44a-8f77-4b56-8ec7-37f70b5fe57f",
   "metadata": {},
   "outputs": [
    {
     "data": {
      "text/plain": [
       "420"
      ]
     },
     "execution_count": 22,
     "metadata": {},
     "output_type": "execute_result"
    }
   ],
   "source": [
    "def base_pay(hours):\n",
    "    return hours * 40\n",
    "\n",
    "def bonus_pay(hours):\n",
    "    return base_pay(hours) + 100\n",
    "\n",
    "bonus_pay(8)"
   ]
  },
  {
   "cell_type": "code",
   "execution_count": 23,
   "id": "b7d47253-bdd5-40c5-abf4-b9378639aec3",
   "metadata": {},
   "outputs": [
    {
     "data": {
      "text/plain": [
       "(320, 300)"
      ]
     },
     "execution_count": 23,
     "metadata": {},
     "output_type": "execute_result"
    }
   ],
   "source": [
    "base_pay(8), bonus_pay(5)"
   ]
  },
  {
   "cell_type": "code",
   "execution_count": 35,
   "id": "1f9e1ca3-b684-4166-8382-66b5e274cd50",
   "metadata": {},
   "outputs": [],
   "source": [
    "def add_10(m):\n",
    "    if m >= 100:\n",
    "        m = m + 10\n",
    "        return m\n",
    "    else:\n",
    "        return \"no money\"\n",
    "\n"
   ]
  },
  {
   "cell_type": "code",
   "execution_count": 36,
   "id": "fb69fa16-6b4b-4b3d-abe5-3ba72fe9a24c",
   "metadata": {},
   "outputs": [
    {
     "data": {
      "text/plain": [
       "210"
      ]
     },
     "execution_count": 36,
     "metadata": {},
     "output_type": "execute_result"
    }
   ],
   "source": [
    "add_10(200)\n"
   ]
  },
  {
   "cell_type": "code",
   "execution_count": 37,
   "id": "873ef510-69a4-4353-a1ff-740f1742fe0f",
   "metadata": {},
   "outputs": [
    {
     "data": {
      "text/plain": [
       "210"
      ]
     },
     "execution_count": 37,
     "metadata": {},
     "output_type": "execute_result"
    }
   ],
   "source": [
    "add_10(200)"
   ]
  },
  {
   "cell_type": "code",
   "execution_count": 38,
   "id": "2422fee3-35fd-4099-a78f-2438c1d8a533",
   "metadata": {},
   "outputs": [
    {
     "data": {
      "text/plain": [
       "'no money'"
      ]
     },
     "execution_count": 38,
     "metadata": {},
     "output_type": "execute_result"
    }
   ],
   "source": [
    "add_10(50)"
   ]
  },
  {
   "cell_type": "code",
   "execution_count": 39,
   "id": "36039273-fbb8-4cce-8d7b-1caf196b8cfd",
   "metadata": {},
   "outputs": [
    {
     "data": {
      "text/plain": [
       "4242"
      ]
     },
     "execution_count": 39,
     "metadata": {},
     "output_type": "execute_result"
    }
   ],
   "source": [
    "max(90, 100, 4242)"
   ]
  },
  {
   "cell_type": "code",
   "execution_count": 41,
   "id": "8d71fb57-d668-486b-8520-ff24f1750f4c",
   "metadata": {},
   "outputs": [
    {
     "data": {
      "text/plain": [
       "1"
      ]
     },
     "execution_count": 41,
     "metadata": {},
     "output_type": "execute_result"
    }
   ],
   "source": [
    "min(5, 6, 99, 1, 4040, 24)"
   ]
  },
  {
   "cell_type": "code",
   "execution_count": 44,
   "id": "a20586c7-59a1-4043-9974-867ad476674f",
   "metadata": {},
   "outputs": [
    {
     "data": {
      "text/plain": [
       "16"
      ]
     },
     "execution_count": 44,
     "metadata": {},
     "output_type": "execute_result"
    }
   ],
   "source": [
    "list = [1, 2, 3, 4, 6]\n",
    "sum(list)"
   ]
  },
  {
   "cell_type": "code",
   "execution_count": 45,
   "id": "fd7807ab-3ac5-41ae-b900-a115a39d21c8",
   "metadata": {},
   "outputs": [
    {
     "data": {
      "text/plain": [
       "2"
      ]
     },
     "execution_count": 45,
     "metadata": {},
     "output_type": "execute_result"
    }
   ],
   "source": [
    "round(2.4)"
   ]
  },
  {
   "cell_type": "code",
   "execution_count": 46,
   "id": "bc1aa707-fb33-439f-9eb1-4b2a21cd4f62",
   "metadata": {},
   "outputs": [
    {
     "data": {
      "text/plain": [
       "25"
      ]
     },
     "execution_count": 46,
     "metadata": {},
     "output_type": "execute_result"
    }
   ],
   "source": [
    "pow(5, 2)"
   ]
  },
  {
   "cell_type": "code",
   "execution_count": 49,
   "id": "d1718e27-d72a-45d0-a017-da39d6db7d03",
   "metadata": {},
   "outputs": [
    {
     "data": {
      "text/plain": [
       "12"
      ]
     },
     "execution_count": 49,
     "metadata": {},
     "output_type": "execute_result"
    }
   ],
   "source": [
    "len(\"kjskfjksjfks\")\n"
   ]
  },
  {
   "cell_type": "code",
   "execution_count": 50,
   "id": "ea3be44d-bfd8-4704-9d92-b8da6f15aa81",
   "metadata": {},
   "outputs": [
    {
     "data": {
      "text/plain": [
       "'/Users/moe/jupyter_note_pract_soft'"
      ]
     },
     "execution_count": 50,
     "metadata": {},
     "output_type": "execute_result"
    }
   ],
   "source": [
    "pwd"
   ]
  },
  {
   "cell_type": "code",
   "execution_count": 51,
   "id": "23a4a9d4-c0ee-491f-acc9-50d0d3703c57",
   "metadata": {},
   "outputs": [],
   "source": [
    "Student = ['Harry', 'Marry', 'Gary', 'Scary']"
   ]
  },
  {
   "cell_type": "code",
   "execution_count": 53,
   "id": "da8f2ccd-fa5f-45d5-9ec3-d4f2eb8491c5",
   "metadata": {},
   "outputs": [
    {
     "data": {
      "text/plain": [
       "'Harry'"
      ]
     },
     "execution_count": 53,
     "metadata": {},
     "output_type": "execute_result"
    }
   ],
   "source": [
    "Student[0]"
   ]
  },
  {
   "cell_type": "code",
   "execution_count": 54,
   "id": "309e787f-fb04-439c-824c-84ce867f0c93",
   "metadata": {},
   "outputs": [],
   "source": [
    "Student[1] = 'Soha'"
   ]
  },
  {
   "cell_type": "code",
   "execution_count": 55,
   "id": "a1650ca1-2133-4e84-a727-859e37ec2e38",
   "metadata": {},
   "outputs": [
    {
     "data": {
      "text/plain": [
       "['Harry', 'Soha', 'Gary', 'Scary']"
      ]
     },
     "execution_count": 55,
     "metadata": {},
     "output_type": "execute_result"
    }
   ],
   "source": [
    "Student"
   ]
  },
  {
   "cell_type": "code",
   "execution_count": 57,
   "id": "b6c10e5f-466f-4371-aa69-4ed755f7a0c0",
   "metadata": {},
   "outputs": [],
   "source": [
    "del Student[0]"
   ]
  },
  {
   "cell_type": "code",
   "execution_count": 58,
   "id": "1ee8e7ed-8565-4e05-91ba-3449c9ae3170",
   "metadata": {},
   "outputs": [
    {
     "data": {
      "text/plain": [
       "['Soha', 'Gary', 'Scary']"
      ]
     },
     "execution_count": 58,
     "metadata": {},
     "output_type": "execute_result"
    }
   ],
   "source": [
    "Student"
   ]
  },
  {
   "cell_type": "code",
   "execution_count": 59,
   "id": "22bd7891-763e-4234-9ab3-4441e9fa9b6c",
   "metadata": {},
   "outputs": [
    {
     "data": {
      "text/plain": [
       "'/Users/moe/jupyter_note_pract_soft'"
      ]
     },
     "execution_count": 59,
     "metadata": {},
     "output_type": "execute_result"
    }
   ],
   "source": [
    "pwd\n"
   ]
  },
  {
   "cell_type": "code",
   "execution_count": 60,
   "id": "d68a6d2b-cdef-4257-bfb1-828b11215268",
   "metadata": {},
   "outputs": [],
   "source": [
    "from collections import deque\n",
    "\n",
    "d = deque([1, 2, 3, 4])\n",
    "d.append(5)"
   ]
  },
  {
   "cell_type": "code",
   "execution_count": 64,
   "id": "5ca9ad0a-8c45-4bb4-b450-880e5f0f78ee",
   "metadata": {},
   "outputs": [
    {
     "data": {
      "text/plain": [
       "deque([1, 2, 3, 4, 5])"
      ]
     },
     "execution_count": 64,
     "metadata": {},
     "output_type": "execute_result"
    }
   ],
   "source": [
    "d"
   ]
  },
  {
   "cell_type": "code",
   "execution_count": 65,
   "id": "be126560-883c-4964-af01-8f040bd96ed8",
   "metadata": {},
   "outputs": [
    {
     "data": {
      "text/plain": [
       "deque([1, 2, 3, 4, 5])"
      ]
     },
     "execution_count": 65,
     "metadata": {},
     "output_type": "execute_result"
    }
   ],
   "source": [
    "d"
   ]
  },
  {
   "cell_type": "code",
   "execution_count": 66,
   "id": "321e0d1b-d1a1-467c-928a-b53f12a9bdf1",
   "metadata": {},
   "outputs": [
    {
     "data": {
      "text/plain": [
       "deque([100, 1, 2, 3, 4, 5])"
      ]
     },
     "execution_count": 66,
     "metadata": {},
     "output_type": "execute_result"
    }
   ],
   "source": [
    "d.appendleft(100)\n",
    "d"
   ]
  },
  {
   "cell_type": "code",
   "execution_count": 67,
   "id": "14e448a7-7f84-4e63-884c-103991c170cb",
   "metadata": {},
   "outputs": [
    {
     "data": {
      "text/plain": [
       "deque([100, 1, 2, 3, 4])"
      ]
     },
     "execution_count": 67,
     "metadata": {},
     "output_type": "execute_result"
    }
   ],
   "source": [
    "d.pop()\n",
    "d"
   ]
  },
  {
   "cell_type": "code",
   "execution_count": 68,
   "id": "986841cc-1f81-4a91-bcf1-77e232b1a39a",
   "metadata": {},
   "outputs": [
    {
     "data": {
      "text/plain": [
       "deque([1, 2, 3, 4])"
      ]
     },
     "execution_count": 68,
     "metadata": {},
     "output_type": "execute_result"
    }
   ],
   "source": [
    "d.popleft()\n",
    "d"
   ]
  },
  {
   "cell_type": "code",
   "execution_count": 70,
   "id": "b8cbfa6a-5126-4128-aef7-4eac6c4320e4",
   "metadata": {},
   "outputs": [
    {
     "data": {
      "text/plain": [
       "[1, 2, 3, 99, 4, 5]"
      ]
     },
     "execution_count": 70,
     "metadata": {},
     "output_type": "execute_result"
    }
   ],
   "source": [
    "num_list = [1, 2, 3, 4, 5]\n",
    "num_list.insert(3,99)\n",
    "num_list"
   ]
  },
  {
   "cell_type": "code",
   "execution_count": 7,
   "id": "1292c0b0-4955-484a-8dea-ccd427d9d952",
   "metadata": {},
   "outputs": [],
   "source": [
    "# slice\n",
    "men = [\"Larry\", \"Sam\", \"Moe\", \"Amr\", \"Ralph\"]"
   ]
  },
  {
   "cell_type": "code",
   "execution_count": 2,
   "id": "0b0b0ff5-f313-4dc5-8c07-60dfc8ea0b5c",
   "metadata": {},
   "outputs": [
    {
     "data": {
      "text/plain": [
       "['Sam', 'Moe']"
      ]
     },
     "execution_count": 2,
     "metadata": {},
     "output_type": "execute_result"
    }
   ],
   "source": [
    "men[1:3]"
   ]
  },
  {
   "cell_type": "code",
   "execution_count": 3,
   "id": "c93ffbe9-1efa-4cfd-a9f4-50b2d9bad568",
   "metadata": {},
   "outputs": [
    {
     "data": {
      "text/plain": [
       "['Larry', 'Sam', 'Moe', 'Amr', 'Ralph']"
      ]
     },
     "execution_count": 3,
     "metadata": {},
     "output_type": "execute_result"
    }
   ],
   "source": [
    "men"
   ]
  },
  {
   "cell_type": "code",
   "execution_count": 5,
   "id": "72599f7a-cce7-4061-b3e6-c111f725d4d5",
   "metadata": {},
   "outputs": [
    {
     "data": {
      "text/plain": [
       "['Larry', 'Sam', 'Moe']"
      ]
     },
     "execution_count": 5,
     "metadata": {},
     "output_type": "execute_result"
    }
   ],
   "source": [
    "men[:3]"
   ]
  },
  {
   "cell_type": "code",
   "execution_count": 8,
   "id": "bd7b8dc0-4fa1-4f84-bd2e-47e2d9e02f9b",
   "metadata": {},
   "outputs": [
    {
     "data": {
      "text/plain": [
       "['Amr', 'Ralph']"
      ]
     },
     "execution_count": 8,
     "metadata": {},
     "output_type": "execute_result"
    }
   ],
   "source": [
    "men[3:]"
   ]
  },
  {
   "cell_type": "code",
   "execution_count": 9,
   "id": "c08fea16-ef67-4ea7-8a8e-e6dc68505269",
   "metadata": {},
   "outputs": [
    {
     "data": {
      "text/plain": [
       "1"
      ]
     },
     "execution_count": 9,
     "metadata": {},
     "output_type": "execute_result"
    }
   ],
   "source": [
    "men.index(\"Sam\")"
   ]
  },
  {
   "cell_type": "code",
   "execution_count": 10,
   "id": "60f0189a-7c01-4771-90ee-ecaa0863fe09",
   "metadata": {},
   "outputs": [],
   "source": [
    "men.sort()"
   ]
  },
  {
   "cell_type": "code",
   "execution_count": 11,
   "id": "107d0545-d3b6-4cf6-9ef5-e258a1639d63",
   "metadata": {},
   "outputs": [
    {
     "data": {
      "text/plain": [
       "['Amr', 'Larry', 'Moe', 'Ralph', 'Sam']"
      ]
     },
     "execution_count": 11,
     "metadata": {},
     "output_type": "execute_result"
    }
   ],
   "source": [
    "men"
   ]
  },
  {
   "cell_type": "code",
   "execution_count": 13,
   "id": "2d15ba74-3791-4cad-82ee-cd016029085f",
   "metadata": {},
   "outputs": [],
   "source": [
    "men.sort(reverse=True)"
   ]
  },
  {
   "cell_type": "code",
   "execution_count": 14,
   "id": "0bba488b-b3d0-432a-886b-0257e1e7a737",
   "metadata": {},
   "outputs": [
    {
     "data": {
      "text/plain": [
       "['Sam', 'Ralph', 'Moe', 'Larry', 'Amr']"
      ]
     },
     "execution_count": 14,
     "metadata": {},
     "output_type": "execute_result"
    }
   ],
   "source": [
    "men"
   ]
  },
  {
   "cell_type": "code",
   "execution_count": 15,
   "id": "fff15b51-c1d2-4029-9dc8-b5c8a93ef575",
   "metadata": {},
   "outputs": [
    {
     "data": {
      "text/plain": [
       "'/Users/moe/jupyter_note_pract_soft'"
      ]
     },
     "execution_count": 15,
     "metadata": {},
     "output_type": "execute_result"
    }
   ],
   "source": [
    "pwd\n"
   ]
  },
  {
   "cell_type": "code",
   "execution_count": 16,
   "id": "69465500-e9f4-48de-8acb-05b4f9cf620e",
   "metadata": {},
   "outputs": [],
   "source": [
    "# tuples\n",
    "x = (1, 2, 2, 3, 4)"
   ]
  },
  {
   "cell_type": "code",
   "execution_count": 17,
   "id": "3e048257-5676-4d83-8170-35606ff1f130",
   "metadata": {},
   "outputs": [
    {
     "data": {
      "text/plain": [
       "(1, 2, 2, 3, 4)"
      ]
     },
     "execution_count": 17,
     "metadata": {},
     "output_type": "execute_result"
    }
   ],
   "source": [
    "x"
   ]
  },
  {
   "cell_type": "code",
   "execution_count": 18,
   "id": "6d90573b-14cb-4e82-bc48-0c2acb00a53a",
   "metadata": {},
   "outputs": [],
   "source": [
    "a, c, v = 9, 3, 2"
   ]
  },
  {
   "cell_type": "code",
   "execution_count": 19,
   "id": "d3fbde1e-bbee-4e9b-8b78-30cfaf199e13",
   "metadata": {},
   "outputs": [
    {
     "data": {
      "text/plain": [
       "9"
      ]
     },
     "execution_count": 19,
     "metadata": {},
     "output_type": "execute_result"
    }
   ],
   "source": [
    "a"
   ]
  },
  {
   "cell_type": "code",
   "execution_count": 22,
   "id": "4a4de442-9fac-40f8-8dab-702b4879041e",
   "metadata": {},
   "outputs": [
    {
     "data": {
      "text/plain": [
       "2"
      ]
     },
     "execution_count": 22,
     "metadata": {},
     "output_type": "execute_result"
    }
   ],
   "source": [
    "x[1]"
   ]
  },
  {
   "cell_type": "code",
   "execution_count": 23,
   "id": "185adeda-aa08-419d-8a35-b3ac73594d75",
   "metadata": {},
   "outputs": [],
   "source": [
    "(age, name) = \"30, Moe\".split(',')"
   ]
  },
  {
   "cell_type": "code",
   "execution_count": 24,
   "id": "540c7327-bfee-4d53-97a0-035a89a3fc98",
   "metadata": {},
   "outputs": [
    {
     "name": "stdout",
     "output_type": "stream",
     "text": [
      "30\n"
     ]
    }
   ],
   "source": [
    "print(age)"
   ]
  },
  {
   "cell_type": "code",
   "execution_count": 25,
   "id": "19318344-bd48-430b-bcc6-67bda129dbe3",
   "metadata": {},
   "outputs": [
    {
     "name": "stdout",
     "output_type": "stream",
     "text": [
      " Moe\n"
     ]
    }
   ],
   "source": [
    "print(name)"
   ]
  },
  {
   "cell_type": "code",
   "execution_count": 27,
   "id": "d0407635-9ee3-4515-841a-d5a7d2353d18",
   "metadata": {},
   "outputs": [
    {
     "name": "stdout",
     "output_type": "stream",
     "text": [
      "Area and Perminter:\n"
     ]
    },
    {
     "data": {
      "text/plain": [
       "(25, 20)"
      ]
     },
     "execution_count": 27,
     "metadata": {},
     "output_type": "execute_result"
    }
   ],
   "source": [
    "def square_info(x):\n",
    "    A = x ** 2\n",
    "    B = x * 4\n",
    "    print(\"Area and Perminter:\")\n",
    "    return A, B\n",
    "\n",
    "square_info(5)"
   ]
  },
  {
   "cell_type": "code",
   "execution_count": 33,
   "id": "f4672b79-58ba-4413-9be8-86dbd286d09b",
   "metadata": {},
   "outputs": [
    {
     "data": {
      "text/plain": [
       "'cat'"
      ]
     },
     "execution_count": 33,
     "metadata": {},
     "output_type": "execute_result"
    }
   ],
   "source": [
    "#dictionaries\n",
    "\n",
    "dict = {'k1': 'cat', 'k2': 'dog', 'k3': 'parrot'}\n",
    "dict['k1']"
   ]
  },
  {
   "cell_type": "code",
   "execution_count": 34,
   "id": "b5f6a6c3-a173-4c3f-a11f-7c7eee7ff602",
   "metadata": {},
   "outputs": [
    {
     "data": {
      "text/plain": [
       "'parrot'"
      ]
     },
     "execution_count": 34,
     "metadata": {},
     "output_type": "execute_result"
    }
   ],
   "source": [
    "dict['k3']"
   ]
  },
  {
   "cell_type": "code",
   "execution_count": 35,
   "id": "e2562c98-1800-47b1-85f9-ede928c330b6",
   "metadata": {},
   "outputs": [
    {
     "data": {
      "text/plain": [
       "{'k1': 'cat', 'k2': 'dog', 'k3': 'parrot', 'k4': 'mouse'}"
      ]
     },
     "execution_count": 35,
     "metadata": {},
     "output_type": "execute_result"
    }
   ],
   "source": [
    "dict['k4'] = 'mouse'\n",
    "dict"
   ]
  },
  {
   "cell_type": "code",
   "execution_count": 36,
   "id": "6fd92590-dabc-4e92-b787-b134b7420afa",
   "metadata": {},
   "outputs": [
    {
     "data": {
      "text/plain": [
       "{'k1': 'dolphin', 'k2': 'dog', 'k3': 'parrot', 'k4': 'mouse'}"
      ]
     },
     "execution_count": 36,
     "metadata": {},
     "output_type": "execute_result"
    }
   ],
   "source": [
    "dict['k1']='dolphin'\n",
    "dict"
   ]
  },
  {
   "cell_type": "code",
   "execution_count": 42,
   "id": "422d0417-9fd4-4c01-b412-e56f042feef0",
   "metadata": {},
   "outputs": [],
   "source": [
    "dep_workers = {'dep_1': 'Peter', 'dep_2': ['Mark', 'Jennifer', 'Tommy']}"
   ]
  },
  {
   "cell_type": "code",
   "execution_count": 43,
   "id": "55e22b8f-3ba0-4714-a7ac-495e4d350fef",
   "metadata": {},
   "outputs": [
    {
     "data": {
      "text/plain": [
       "'Peter'"
      ]
     },
     "execution_count": 43,
     "metadata": {},
     "output_type": "execute_result"
    }
   ],
   "source": [
    "dep_workers['dep_1']"
   ]
  },
  {
   "cell_type": "code",
   "execution_count": 44,
   "id": "6c6e39b2-2045-43bf-b4b7-7dd9538a091e",
   "metadata": {},
   "outputs": [
    {
     "data": {
      "text/plain": [
       "['Mark', 'Jennifer', 'Tommy']"
      ]
     },
     "execution_count": 44,
     "metadata": {},
     "output_type": "execute_result"
    }
   ],
   "source": [
    "dep_workers['dep_2']"
   ]
  },
  {
   "cell_type": "code",
   "execution_count": 45,
   "id": "835b7a5a-095c-4580-85d4-0b66cf2e7864",
   "metadata": {},
   "outputs": [
    {
     "name": "stdout",
     "output_type": "stream",
     "text": [
      "{'Alpha': 'Male', 'Beta': 'Dogs', 'Ceta': 'Mice', 'Center': 'Ashbal'}\n"
     ]
    }
   ],
   "source": [
    "Team = {}\n",
    "Team['Alpha'] = 'Male'\n",
    "Team['Beta'] = 'Dogs'\n",
    "Team['Ceta'] = 'Mice'\n",
    "Team['Center'] = 'Ashbal'\n",
    "print(Team)"
   ]
  },
  {
   "cell_type": "code",
   "execution_count": 46,
   "id": "87389e27-733b-42d4-bace-27a693554d94",
   "metadata": {},
   "outputs": [
    {
     "data": {
      "text/plain": [
       "'Male'"
      ]
     },
     "execution_count": 46,
     "metadata": {},
     "output_type": "execute_result"
    }
   ],
   "source": [
    "Team.get('Alpha')"
   ]
  },
  {
   "cell_type": "code",
   "execution_count": 48,
   "id": "4e7e85e6-a40f-4e7c-b125-2c28950b9a7e",
   "metadata": {},
   "outputs": [
    {
     "name": "stdout",
     "output_type": "stream",
     "text": [
      "None\n"
     ]
    }
   ],
   "source": [
    "print(Team.get('Rum'))"
   ]
  },
  {
   "cell_type": "code",
   "execution_count": 49,
   "id": "21185459-f63e-4670-979a-d752781c3a98",
   "metadata": {},
   "outputs": [
    {
     "ename": "SyntaxError",
     "evalue": "':' expected after dictionary key (3223711402.py, line 1)",
     "output_type": "error",
     "traceback": [
      "  \u001b[36mCell\u001b[39m\u001b[36m \u001b[39m\u001b[32mIn[49]\u001b[39m\u001b[32m, line 1\u001b[39m\n\u001b[31m    \u001b[39m\u001b[31mMenu = {'meal_1':'Spaghetti', 'meal_2':'Fries', 'meal_3':'Cheeseburger', 'meal_4': 'Lasagna', 'meal_5':'Soup', Dessert}\u001b[39m\n                                                                                                                         ^\n\u001b[31mSyntaxError\u001b[39m\u001b[31m:\u001b[39m ':' expected after dictionary key\n"
     ]
    }
   ],
   "source": [
    "Menu = {'meal_1':'Spaghetti', 'meal_2':'Fries', 'meal_3':'Cheeseburger', 'meal_4': 'Lasagna', 'meal_5':'Soup', Dessert}\n",
    "Dessert = ['Pancakes', 'Ice-cream', 'Tiramisu']\n",
    "\n",
    "print(Menu)"
   ]
  },
  {
   "cell_type": "code",
   "execution_count": null,
   "id": "165ee3f9-9914-409f-8186-7a59b29f8675",
   "metadata": {},
   "outputs": [],
   "source": []
  }
 ],
 "metadata": {
  "kernelspec": {
   "display_name": "Python 3 (ipykernel)",
   "language": "python",
   "name": "python3"
  },
  "language_info": {
   "codemirror_mode": {
    "name": "ipython",
    "version": 3
   },
   "file_extension": ".py",
   "mimetype": "text/x-python",
   "name": "python",
   "nbconvert_exporter": "python",
   "pygments_lexer": "ipython3",
   "version": "3.13.5"
  }
 },
 "nbformat": 4,
 "nbformat_minor": 5
}
